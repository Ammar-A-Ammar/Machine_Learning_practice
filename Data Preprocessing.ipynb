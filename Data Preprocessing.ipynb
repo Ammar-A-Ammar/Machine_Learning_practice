{
  "cells": [
    {
      "cell_type": "markdown",
      "metadata": {
        "id": "view-in-github",
        "colab_type": "text"
      },
      "source": [
        "<a href=\"https://colab.research.google.com/github/Ammar-A-Ammar/Machine_Learning_projects/blob/main/Data%20Preprocessing.ipynb\" target=\"_parent\"><img src=\"https://colab.research.google.com/assets/colab-badge.svg\" alt=\"Open In Colab\"/></a>"
      ]
    },
    {
      "cell_type": "markdown",
      "metadata": {
        "id": "WP2ctfQTlOSU"
      },
      "source": [
        "---\n",
        "# Cairo University Faculty of Engineering\n",
        "## Data Mining and Machine Learning\n",
        "\n",
        "---"
      ]
    },
    {
      "cell_type": "markdown",
      "metadata": {
        "id": "IuXoR0LwlOSW"
      },
      "source": [
        "## Instructions\n",
        "- Before you turn this problem in, make sure everything runs as expected. First, **restart the kernel** (in the menubar, select Kernel$\\rightarrow$Restart) and then **run all cells** (in the menubar, select Cell$\\rightarrow$Run All).\n",
        "- Don't change any of the cells.\n",
        "- If you add cells make sure to remove them before you submit\n",
        "- ONLY fill in any place that says `YOUR CODE HERE` or \"YOUR ANSWER HERE\", \n",
        "- Fill in your **full name** below inside \"\""
      ]
    },
    {
      "cell_type": "code",
      "execution_count": null,
      "metadata": {
        "id": "Hm7AlcdrlOSX"
      },
      "outputs": [],
      "source": [
        "NAME = \"Ammar Ahmed Ammar\""
      ]
    },
    {
      "cell_type": "markdown",
      "metadata": {
        "id": "HRKTYgCYlOSX"
      },
      "source": [
        "---"
      ]
    },
    {
      "cell_type": "markdown",
      "metadata": {
        "deletable": false,
        "editable": false,
        "nbgrader": {
          "cell_type": "markdown",
          "checksum": "f1b72903ab5a58b46e6ea76a7428eb2f",
          "grade": false,
          "grade_id": "cell-ba4bb17d51b75021",
          "locked": true,
          "schema_version": 3,
          "solution": false,
          "task": false
        },
        "tags": [],
        "id": "dPLnCSltlOSY"
      },
      "source": [
        "---\n",
        "## Question 1 (6 points)\n",
        "\n",
        "**Using LaTeX math notation**. **YOU MUST SHOW YOUR WORK**\n",
        "\n",
        "The table below shows the age of each employee at a cardboard box factory.\n",
        "| ID          | 1  | 2  | 3  |4   |5   |6   |7   |8   |9   |10  |11  |12  |  13|  14|  15|  16|  17|  18|  19|20|\n",
        "| ----------- | -- | -- | -- | -- | -- | -- | -- | -- | -- | -- | -- | -- | -- | -- | -- | -- | -- | -- | -- |--|\n",
        "| Age         | 51 | 39 |34  |27  |23  |43  |41  |55  |24  |25  |38  |17  |21  |37  |35  |38  |31  |24  |35  |33|\n",
        "\n",
        "Based on this data calculate the following summary statistics for the AGE feature:"
      ]
    },
    {
      "cell_type": "markdown",
      "metadata": {
        "deletable": false,
        "editable": false,
        "nbgrader": {
          "cell_type": "markdown",
          "checksum": "db72f32fcc0dfb8cb5f5662c062360c2",
          "grade": false,
          "grade_id": "cell-87b0f63aa4fd6fff",
          "locked": true,
          "schema_version": 3,
          "solution": false,
          "task": false
        },
        "tags": [],
        "id": "HVcmU_polOSY"
      },
      "source": [
        "### **1. Minimum, maximum and range**"
      ]
    },
    {
      "cell_type": "markdown",
      "metadata": {
        "deletable": false,
        "nbgrader": {
          "cell_type": "markdown",
          "checksum": "55fb4a4e2fad818d23e2f87e22e249af",
          "grade": true,
          "grade_id": "cell-bad18c1d086bb4d3",
          "locked": false,
          "points": 1,
          "schema_version": 3,
          "solution": true,
          "task": false
        },
        "tags": [],
        "id": "uTFHgJgElOSY"
      },
      "source": [
        "$Smallest  =17$ ; id=12 \\\n",
        "$Largest\t =55$ ; id=8\\\n",
        "$Range\t   = max-min = 38$"
      ]
    },
    {
      "cell_type": "markdown",
      "source": [],
      "metadata": {
        "id": "-yv-xt_N8dsB"
      }
    },
    {
      "cell_type": "markdown",
      "metadata": {
        "deletable": false,
        "editable": false,
        "nbgrader": {
          "cell_type": "markdown",
          "checksum": "9f17cf5ce0ab44609c132da27d5c76e2",
          "grade": false,
          "grade_id": "cell-de02f178fd4dec4d",
          "locked": true,
          "schema_version": 3,
          "solution": false,
          "task": false
        },
        "tags": [],
        "id": "0L1MBouMlOSZ"
      },
      "source": [
        "### **2. Mean and median**"
      ]
    },
    {
      "cell_type": "markdown",
      "metadata": {
        "deletable": false,
        "nbgrader": {
          "cell_type": "markdown",
          "checksum": "8dbe910f20f03c91d80700b8887c71ff",
          "grade": true,
          "grade_id": "cell-6b25d6720d900084",
          "locked": false,
          "points": 1,
          "schema_version": 3,
          "solution": true,
          "task": false
        },
        "tags": [],
        "id": "OY84MmfDlOSZ"
      },
      "source": [
        "$Sorted Numbers = [17,21,23,24,24,25,27,31,33,34,35,35,37,38,38,39,41,43,51,55]$\n",
        "\n",
        "$$median\\left(x\\right)=\\begin{cases}\n",
        "  x_\\frac{n+1}{2} & n\\text{ odd}\\\\\n",
        "  \\frac {1}{2}\\left(x_{\\frac{n}{2}} + x_{\\frac{n}{2} + 1}\\right) & n \\space \\text  {even}\n",
        "\\end{cases} \\; $$\n",
        "\n",
        " $$Mean ={\\frac {1}{N}}\\sum _{i=1}^{n}{x_i}$$\n",
        "\n",
        "> $Median=\t34.5$\n",
        "\n",
        ">$ Mean=\t33.55$\n",
        "\n",
        "\n"
      ]
    },
    {
      "cell_type": "markdown",
      "source": [],
      "metadata": {
        "id": "33tQBIP89z1j"
      }
    },
    {
      "cell_type": "markdown",
      "metadata": {
        "deletable": false,
        "editable": false,
        "nbgrader": {
          "cell_type": "markdown",
          "checksum": "4dbd3b317bc11148aaf4e1ed328aa090",
          "grade": false,
          "grade_id": "cell-c63f6f9d24c404e9",
          "locked": true,
          "schema_version": 3,
          "solution": false,
          "task": false
        },
        "tags": [],
        "id": "xZ74ID6BlOSZ"
      },
      "source": [
        "### **c. Variance and standard deviation**"
      ]
    },
    {
      "cell_type": "markdown",
      "metadata": {
        "deletable": false,
        "nbgrader": {
          "cell_type": "markdown",
          "checksum": "83427020d5e7aca1ba4ec0b715fe6669",
          "grade": true,
          "grade_id": "cell-73894b8cce6302c9",
          "locked": false,
          "points": 1,
          "schema_version": 3,
          "solution": true,
          "task": false
        },
        "tags": [],
        "id": "RZIndjEklOSa"
      },
      "source": [
        "$$S^2(variance) = {\\frac{1}{N-1} \\sum_{i=1}^N (x_i - \\overline{x})^2}  \\space $$\n",
        "\n",
        "$$\\space S(standard \\space deviation) = \\sqrt{\\frac{1}{N-1} \\sum_{i=1}^N (x_i - \\overline{x})^2}$$\n",
        "\n",
        "\n",
        "$S = \\sqrt{\\frac{1}{20-1} \\sum_{i=1}^{20} (x_i - 33.55)^2}$ \n",
        "\n",
        ">$S^2 =96.9973684211 \\approx 96.997 $\n",
        "\n",
        "> $ S = 9.8487242027 \\approx 9.849 $ \n",
        "\n",
        "\n",
        "\n",
        "\n"
      ]
    },
    {
      "cell_type": "markdown",
      "metadata": {
        "deletable": false,
        "editable": false,
        "nbgrader": {
          "cell_type": "markdown",
          "checksum": "0edcaa1795ffcc362a24995af468698f",
          "grade": false,
          "grade_id": "cell-65bbcf3130e8bf06",
          "locked": true,
          "schema_version": 3,
          "solution": false,
          "task": false
        },
        "tags": [],
        "id": "9QSOAX4SlOSa"
      },
      "source": [
        "### **d. 1st quartile (25th percentile) and 3rd quartile (75th percentile)**"
      ]
    },
    {
      "cell_type": "markdown",
      "metadata": {
        "deletable": false,
        "nbgrader": {
          "cell_type": "markdown",
          "checksum": "c306a00e5255c1e24c9fcc4335ff58df",
          "grade": true,
          "grade_id": "cell-aef2847b3cb6b1b0",
          "locked": false,
          "points": 1,
          "schema_version": 3,
          "solution": true,
          "task": false
        },
        "tags": [],
        "id": "NTvZxciplOSa"
      },
      "source": [
        "$$Q_1 = {\\frac{1}{4}* (N+1) }^{th} Term \\; | \\; Q_3 = {\\frac{3}{4}* (N+1) }^{th} Term$$\n",
        "\n",
        "using interpolation for decimal numbers\n",
        "\n",
        "> $ Q_1 = 24.25$\n",
        "\n",
        "> $Q_3 = 38.75$\n",
        "\n",
        "\n",
        "\n",
        "\n",
        " "
      ]
    },
    {
      "cell_type": "markdown",
      "metadata": {
        "deletable": false,
        "editable": false,
        "nbgrader": {
          "cell_type": "markdown",
          "checksum": "d4a9fd38f5eb97d9c83fdac6df0b7298",
          "grade": false,
          "grade_id": "cell-b55de6eb2050a89c",
          "locked": true,
          "schema_version": 3,
          "solution": false,
          "task": false
        },
        "tags": [],
        "id": "fcNFQtz-lOSa"
      },
      "source": [
        "### **e. Inter-quartile range**"
      ]
    },
    {
      "cell_type": "markdown",
      "metadata": {
        "deletable": false,
        "nbgrader": {
          "cell_type": "markdown",
          "checksum": "d6652f15cf2d94f2381f1abd1450fecf",
          "grade": true,
          "grade_id": "cell-abe64b771aa9e269",
          "locked": false,
          "points": 1,
          "schema_version": 3,
          "solution": true,
          "task": false
        },
        "tags": [],
        "id": "3VylQf-alOSa"
      },
      "source": [
        "\n",
        "> $\\operatorname {IQR} = Q_3 - Q_1 =13.5$\n",
        "\n",
        "\n"
      ]
    },
    {
      "cell_type": "markdown",
      "metadata": {
        "deletable": false,
        "editable": false,
        "nbgrader": {
          "cell_type": "markdown",
          "checksum": "732d10cab526f51ac17623e96185173d",
          "grade": false,
          "grade_id": "cell-ca8ce6a9acabe654",
          "locked": true,
          "schema_version": 3,
          "solution": false,
          "task": false
        },
        "tags": [],
        "id": "5YfwC_U6lOSa"
      },
      "source": [
        "### **f. 12th percentile**"
      ]
    },
    {
      "cell_type": "markdown",
      "metadata": {
        "deletable": false,
        "nbgrader": {
          "cell_type": "markdown",
          "checksum": "55a2066a273f15e2ef1889d0938c4bf4",
          "grade": true,
          "grade_id": "cell-fed22ba030665f43",
          "locked": false,
          "points": 1,
          "schema_version": 3,
          "solution": true,
          "task": false
        },
        "tags": [],
        "id": "tAK-rjNPlOSa"
      },
      "source": [
        "\n",
        "\n",
        "\n",
        "$$P^{i^{th}}=\\frac{i}{100}* (N+1)^{th}\\  Term $$\n",
        "\n",
        ">$P^{12^{th}}= 22.04$\n",
        "\n"
      ]
    },
    {
      "cell_type": "markdown",
      "metadata": {
        "deletable": false,
        "editable": false,
        "nbgrader": {
          "cell_type": "markdown",
          "checksum": "6bdbe3a22d27bb44d8ba7a2eeea751d1",
          "grade": false,
          "grade_id": "cell-1499d4be2b89b9b5",
          "locked": true,
          "schema_version": 3,
          "solution": false,
          "task": false
        },
        "tags": [],
        "id": "tfZ7Q9gplOSb"
      },
      "source": [
        "---\n",
        "\n",
        "## Question 2 (2.5 point)\n",
        "\n",
        "The table below shows the policy type held by customers at a life assurance\n",
        "company."
      ]
    },
    {
      "cell_type": "code",
      "execution_count": null,
      "metadata": {
        "deletable": false,
        "editable": false,
        "nbgrader": {
          "cell_type": "code",
          "checksum": "b053fb461a484c463b05772b2a030665",
          "grade": false,
          "grade_id": "cell-e5ed3e296d524dfa",
          "locked": true,
          "schema_version": 3,
          "solution": false,
          "task": false
        },
        "tags": [],
        "colab": {
          "base_uri": "https://localhost:8080/",
          "height": 81
        },
        "id": "INW7usT6lOSb",
        "outputId": "7cc338e7-a6cb-4c93-f07b-1bc72556fafa"
      },
      "outputs": [
        {
          "output_type": "execute_result",
          "data": {
            "text/plain": [
              "            0         1     2     3       4       5       6       7   \\\n",
              "POLICY  Silver  Platinum  Gold  Gold  Silver  Silver  Bronze  Silver   \n",
              "\n",
              "              8         9       10    11        12      13        14      15  \\\n",
              "POLICY  Platinum  Platinum  Silver  Gold  Platinum  Silver  Platinum  Silver   \n",
              "\n",
              "              16        17    18      19  \n",
              "POLICY  Platinum  Platinum  Gold  Silver  "
            ],
            "text/html": [
              "\n",
              "  <div id=\"df-98e51116-3925-48b5-bed5-76d4471fb38e\">\n",
              "    <div class=\"colab-df-container\">\n",
              "      <div>\n",
              "<style scoped>\n",
              "    .dataframe tbody tr th:only-of-type {\n",
              "        vertical-align: middle;\n",
              "    }\n",
              "\n",
              "    .dataframe tbody tr th {\n",
              "        vertical-align: top;\n",
              "    }\n",
              "\n",
              "    .dataframe thead th {\n",
              "        text-align: right;\n",
              "    }\n",
              "</style>\n",
              "<table border=\"1\" class=\"dataframe\">\n",
              "  <thead>\n",
              "    <tr style=\"text-align: right;\">\n",
              "      <th></th>\n",
              "      <th>0</th>\n",
              "      <th>1</th>\n",
              "      <th>2</th>\n",
              "      <th>3</th>\n",
              "      <th>4</th>\n",
              "      <th>5</th>\n",
              "      <th>6</th>\n",
              "      <th>7</th>\n",
              "      <th>8</th>\n",
              "      <th>9</th>\n",
              "      <th>10</th>\n",
              "      <th>11</th>\n",
              "      <th>12</th>\n",
              "      <th>13</th>\n",
              "      <th>14</th>\n",
              "      <th>15</th>\n",
              "      <th>16</th>\n",
              "      <th>17</th>\n",
              "      <th>18</th>\n",
              "      <th>19</th>\n",
              "    </tr>\n",
              "  </thead>\n",
              "  <tbody>\n",
              "    <tr>\n",
              "      <th>POLICY</th>\n",
              "      <td>Silver</td>\n",
              "      <td>Platinum</td>\n",
              "      <td>Gold</td>\n",
              "      <td>Gold</td>\n",
              "      <td>Silver</td>\n",
              "      <td>Silver</td>\n",
              "      <td>Bronze</td>\n",
              "      <td>Silver</td>\n",
              "      <td>Platinum</td>\n",
              "      <td>Platinum</td>\n",
              "      <td>Silver</td>\n",
              "      <td>Gold</td>\n",
              "      <td>Platinum</td>\n",
              "      <td>Silver</td>\n",
              "      <td>Platinum</td>\n",
              "      <td>Silver</td>\n",
              "      <td>Platinum</td>\n",
              "      <td>Platinum</td>\n",
              "      <td>Gold</td>\n",
              "      <td>Silver</td>\n",
              "    </tr>\n",
              "  </tbody>\n",
              "</table>\n",
              "</div>\n",
              "      <button class=\"colab-df-convert\" onclick=\"convertToInteractive('df-98e51116-3925-48b5-bed5-76d4471fb38e')\"\n",
              "              title=\"Convert this dataframe to an interactive table.\"\n",
              "              style=\"display:none;\">\n",
              "        \n",
              "  <svg xmlns=\"http://www.w3.org/2000/svg\" height=\"24px\"viewBox=\"0 0 24 24\"\n",
              "       width=\"24px\">\n",
              "    <path d=\"M0 0h24v24H0V0z\" fill=\"none\"/>\n",
              "    <path d=\"M18.56 5.44l.94 2.06.94-2.06 2.06-.94-2.06-.94-.94-2.06-.94 2.06-2.06.94zm-11 1L8.5 8.5l.94-2.06 2.06-.94-2.06-.94L8.5 2.5l-.94 2.06-2.06.94zm10 10l.94 2.06.94-2.06 2.06-.94-2.06-.94-.94-2.06-.94 2.06-2.06.94z\"/><path d=\"M17.41 7.96l-1.37-1.37c-.4-.4-.92-.59-1.43-.59-.52 0-1.04.2-1.43.59L10.3 9.45l-7.72 7.72c-.78.78-.78 2.05 0 2.83L4 21.41c.39.39.9.59 1.41.59.51 0 1.02-.2 1.41-.59l7.78-7.78 2.81-2.81c.8-.78.8-2.07 0-2.86zM5.41 20L4 18.59l7.72-7.72 1.47 1.35L5.41 20z\"/>\n",
              "  </svg>\n",
              "      </button>\n",
              "      \n",
              "  <style>\n",
              "    .colab-df-container {\n",
              "      display:flex;\n",
              "      flex-wrap:wrap;\n",
              "      gap: 12px;\n",
              "    }\n",
              "\n",
              "    .colab-df-convert {\n",
              "      background-color: #E8F0FE;\n",
              "      border: none;\n",
              "      border-radius: 50%;\n",
              "      cursor: pointer;\n",
              "      display: none;\n",
              "      fill: #1967D2;\n",
              "      height: 32px;\n",
              "      padding: 0 0 0 0;\n",
              "      width: 32px;\n",
              "    }\n",
              "\n",
              "    .colab-df-convert:hover {\n",
              "      background-color: #E2EBFA;\n",
              "      box-shadow: 0px 1px 2px rgba(60, 64, 67, 0.3), 0px 1px 3px 1px rgba(60, 64, 67, 0.15);\n",
              "      fill: #174EA6;\n",
              "    }\n",
              "\n",
              "    [theme=dark] .colab-df-convert {\n",
              "      background-color: #3B4455;\n",
              "      fill: #D2E3FC;\n",
              "    }\n",
              "\n",
              "    [theme=dark] .colab-df-convert:hover {\n",
              "      background-color: #434B5C;\n",
              "      box-shadow: 0px 1px 3px 1px rgba(0, 0, 0, 0.15);\n",
              "      filter: drop-shadow(0px 1px 2px rgba(0, 0, 0, 0.3));\n",
              "      fill: #FFFFFF;\n",
              "    }\n",
              "  </style>\n",
              "\n",
              "      <script>\n",
              "        const buttonEl =\n",
              "          document.querySelector('#df-98e51116-3925-48b5-bed5-76d4471fb38e button.colab-df-convert');\n",
              "        buttonEl.style.display =\n",
              "          google.colab.kernel.accessAllowed ? 'block' : 'none';\n",
              "\n",
              "        async function convertToInteractive(key) {\n",
              "          const element = document.querySelector('#df-98e51116-3925-48b5-bed5-76d4471fb38e');\n",
              "          const dataTable =\n",
              "            await google.colab.kernel.invokeFunction('convertToInteractive',\n",
              "                                                     [key], {});\n",
              "          if (!dataTable) return;\n",
              "\n",
              "          const docLinkHtml = 'Like what you see? Visit the ' +\n",
              "            '<a target=\"_blank\" href=https://colab.research.google.com/notebooks/data_table.ipynb>data table notebook</a>'\n",
              "            + ' to learn more about interactive tables.';\n",
              "          element.innerHTML = '';\n",
              "          dataTable['output_type'] = 'display_data';\n",
              "          await google.colab.output.renderOutput(dataTable, element);\n",
              "          const docLink = document.createElement('div');\n",
              "          docLink.innerHTML = docLinkHtml;\n",
              "          element.appendChild(docLink);\n",
              "        }\n",
              "      </script>\n",
              "    </div>\n",
              "  </div>\n",
              "  "
            ]
          },
          "metadata": {},
          "execution_count": 2
        }
      ],
      "source": [
        "import pandas as pd\n",
        "import numpy as np\n",
        "import matplotlib.pyplot as plt\n",
        "data = [\"Silver\", \"Platinum\", \"Gold\", \"Gold\", \"Silver\", \"Silver\", \"Bronze\",\"Silver\", \"Platinum\",\"Platinum\",\"Silver\",\n",
        "       \"Gold\", \"Platinum\", \"Silver\", \"Platinum\", \"Silver\", \"Platinum\",\"Platinum\",\n",
        "        \"Gold\", \"Silver\"]\n",
        "table_2 = pd.DataFrame(data, columns=[\"POLICY\"])\n",
        "table_2.T"
      ]
    },
    {
      "cell_type": "markdown",
      "metadata": {
        "deletable": false,
        "editable": false,
        "nbgrader": {
          "cell_type": "markdown",
          "checksum": "0e637837865e8df2a26eb3771a9d4b56",
          "grade": false,
          "grade_id": "cell-081b548a088ef1cb",
          "locked": true,
          "schema_version": 3,
          "solution": false,
          "task": false
        },
        "tags": [],
        "id": "GCph7sHxlOSb"
      },
      "source": [
        "### **1. Based on this data calculate the following summary statistics for the POLICY feature:**\n",
        "    \n",
        "    i. Mode and 2nd mode\n",
        "    \n",
        "    ii. Mode % and 2nd mode %"
      ]
    },
    {
      "cell_type": "code",
      "execution_count": null,
      "metadata": {
        "deletable": false,
        "nbgrader": {
          "cell_type": "code",
          "checksum": "003a3053f15ecf2736dcd76a047c753b",
          "grade": false,
          "grade_id": "mode",
          "locked": false,
          "schema_version": 3,
          "solution": true,
          "task": false
        },
        "tags": [],
        "id": "dlCG-dVUlOSb"
      },
      "outputs": [],
      "source": [
        "def mode(array):\n",
        "    \"\"\"calculate the 1st and 2nd mode of a numpy array, \n",
        "    return a numpy array contaning 2 modes [2nd Mode, Mode]\"\"\"\n",
        "    values, counts = np.unique(array, return_counts=True)\n",
        "    sortedArray = np.argsort(counts)\n",
        "    two_modes = values[sortedArray[-2:]]\n",
        "    return two_modes"
      ]
    },
    {
      "cell_type": "code",
      "execution_count": null,
      "metadata": {
        "deletable": false,
        "editable": false,
        "nbgrader": {
          "cell_type": "code",
          "checksum": "7f2563cf3fc7988ceccc5a1490a6c81e",
          "grade": true,
          "grade_id": "correct_mode",
          "locked": true,
          "points": 1,
          "schema_version": 3,
          "solution": false,
          "task": false
        },
        "tags": [],
        "colab": {
          "base_uri": "https://localhost:8080/"
        },
        "id": "qJFXAsHzlOSc",
        "outputId": "dcd58bc7-84f1-448b-e548-32a0fa4058fd"
      },
      "outputs": [
        {
          "output_type": "stream",
          "name": "stdout",
          "text": [
            "['Platinum' 'Silver']\n"
          ]
        }
      ],
      "source": [
        "print(mode(table_2[\"POLICY\"]))"
      ]
    },
    {
      "cell_type": "code",
      "execution_count": null,
      "metadata": {
        "deletable": false,
        "nbgrader": {
          "cell_type": "code",
          "checksum": "7691a63ea2fd020f4bbe6f2eee14dc70",
          "grade": false,
          "grade_id": "cell-bf77c8451f998e23",
          "locked": false,
          "schema_version": 3,
          "solution": true,
          "task": false
        },
        "tags": [],
        "id": "lNALMsO7lOSc"
      },
      "outputs": [],
      "source": [
        "def mode_percent(array):\n",
        "    \"\"\"calculate the 1st and 2nd mode% of a numpy array, \n",
        "    return a numpy array contaning 2 modes% [2nd Mode%, Mode%] in decimal\"\"\"\n",
        "    values, counts = np.unique(array, return_counts=True)\n",
        "    sortedArray = np.argsort(counts)\n",
        "    two_modes = values[sortedArray[-2:]]\n",
        "\n",
        "    mode_percent = counts[sortedArray[-2:]]/len(array) * 100\n",
        "    mode_percent_decimal = np.array(mode_percent , dtype= np.int64)\n",
        "    return mode_percent_decimal"
      ]
    },
    {
      "cell_type": "code",
      "execution_count": null,
      "metadata": {
        "deletable": false,
        "editable": false,
        "nbgrader": {
          "cell_type": "code",
          "checksum": "3c39080deeb0d32ebb7a24c792d88cd9",
          "grade": true,
          "grade_id": "cell-f5898276d6b4279f",
          "locked": true,
          "points": 1,
          "schema_version": 3,
          "solution": false,
          "task": false
        },
        "tags": [],
        "colab": {
          "base_uri": "https://localhost:8080/"
        },
        "id": "La3XnON0lOSc",
        "outputId": "4f7dc909-8ade-4cbd-bb7e-a9cb6a1e60e0"
      },
      "outputs": [
        {
          "output_type": "stream",
          "name": "stdout",
          "text": [
            "[35 40]\n"
          ]
        }
      ],
      "source": [
        "print(mode_percent(table_2[\"POLICY\"]))"
      ]
    },
    {
      "cell_type": "markdown",
      "metadata": {
        "deletable": false,
        "editable": false,
        "nbgrader": {
          "cell_type": "markdown",
          "checksum": "268b3204bcfeffff189eb103ae3d7676",
          "grade": false,
          "grade_id": "cell-1d5fda73d524294c",
          "locked": true,
          "schema_version": 3,
          "solution": false,
          "task": false
        },
        "tags": [],
        "id": "aK9GKeDnlOSc"
      },
      "source": [
        "### **2. Draw a *bar plot* for POLICY feature using frequencies on Y-axis>**"
      ]
    },
    {
      "cell_type": "code",
      "execution_count": null,
      "metadata": {
        "deletable": false,
        "nbgrader": {
          "cell_type": "code",
          "checksum": "8b69a1b379a02f66a8d4f6f5a2c7c9c2",
          "grade": true,
          "grade_id": "cell-3f2bfadde9d69c66",
          "locked": false,
          "points": 0.5,
          "schema_version": 3,
          "solution": true,
          "task": false
        },
        "tags": [],
        "colab": {
          "base_uri": "https://localhost:8080/",
          "height": 282
        },
        "id": "m5MZL9mMlOSc",
        "outputId": "a8e3ab73-b514-4bd8-c105-d1e6618a7441"
      },
      "outputs": [
        {
          "output_type": "execute_result",
          "data": {
            "text/plain": [
              "<function matplotlib.pyplot.show(close=None, block=None)>"
            ]
          },
          "metadata": {},
          "execution_count": 7
        },
        {
          "output_type": "display_data",
          "data": {
            "text/plain": [
              "<Figure size 432x288 with 1 Axes>"
            ],
            "image/png": "[encoded data removed]"
          },
          "metadata": {
            "needs_background": "light"
          }
        }
      ],
      "source": [
        "bars , heights = np.unique(data , return_counts=True)\n",
        "y_pos = np.arange(len(bars))\n",
        "plt.bar(y_pos ,heights)\n",
        "plt.xticks(y_pos , bars)\n",
        "plt.show"
      ]
    },
    {
      "cell_type": "markdown",
      "metadata": {
        "deletable": false,
        "editable": false,
        "nbgrader": {
          "cell_type": "markdown",
          "checksum": "04732baf322ab19ad83c025cc28ca9d2",
          "grade": false,
          "grade_id": "cell-cdb8ce44c48e5b1d3",
          "locked": true,
          "schema_version": 3,
          "solution": false,
          "task": false
        },
        "tags": [],
        "id": "wfDqwAzBlOSc"
      },
      "source": [
        "---\n",
        "## Question 3 (4 points)\n",
        "\n",
        "An analytics consultant at an insurance company has built an ABT that\n",
        "will be used to train a model to predict the best communications channel\n",
        "to use to contact a potential customer with an offer of a new insurance\n",
        "product. The following table contains an extract from this ABT—the full\n",
        "ABT contains 5,200 instances.\n",
        "\n",
        "The descriptive features in this dataset are defined as follows:\n",
        "- AGE: The customer’s age\n",
        "- GENDER: The customer’s gender (male or female)\n",
        "- LOC: The customer’s location (rural or urban)\n",
        "- OCC: The customer’s occupation\n",
        "- MOTORINS: Whether the customer holds a motor insurance policy with the company (yes or no)\n",
        "- MOTORVALUE: The value of the car on the motor policy\n",
        "- HEALTHINS: Whether the customer holds a health insurance policy with the company (yes or no)\n",
        "- HEALTHTYPE: The type of the health insurance policy (PlanA, PlanB, or PlanC)\n",
        "- HEALTHDEPSADULTS: How many dependent adults are included on the health insurance policy\n",
        "- HEALTHDEPSKIDS: How many dependent children are included on the health insurance policy\n",
        "- PREFCHANNEL: The customer’s preferred contact channel (email, phone, or sms)\n",
        "\n",
        "<a href=\"https://ibb.co/mNHWP2G\"><img src=\"https://i.ibb.co/J3zJSGK/table-3.png\" alt=\"table-3\" border=\"0\" width=\"500\" height=\"600\"></a>\n",
        "\n",
        "The consultant generated the following data quality report from the ABT (visualizations of binary features have been omitted for space saving).\n",
        "\n",
        "<a href=\"https://ibb.co/fd646sq\"><img src=\"https://i.ibb.co/3m6B6n4/table-3-DQR.png\" alt=\"table-3-DQR\" border=\"0\" width=\"500\" height=\"600\"></a>\n",
        "<img src=\"https://i.ibb.co/s9hYhpj/table-3-DQR-b.png\" alt=\"table-3-DQR-b\" border=\"0\" width=\"500\" height=\"600\">\n",
        "\n",
        "Discuss this data quality report in terms of the following:\n",
        "\n",
        "### **a. Missing values**"
      ]
    },
    {
      "cell_type": "markdown",
      "metadata": {
        "deletable": false,
        "nbgrader": {
          "cell_type": "markdown",
          "checksum": "f3cc38a3e522c0be10852ebbe2a638b7",
          "grade": true,
          "grade_id": "sum_of_squares_equation",
          "locked": false,
          "points": 1,
          "schema_version": 3,
          "solution": true
        },
        "id": "fONXTXuNlOSd"
      },
      "source": [
        "*   17.25% (897) missing values in the feature MotorValue.\n",
        "*   39.25% (2041) missing values in the feature HealthDepsAdults.\n",
        "*   9.25% (2041) missing values in the feature HealthDepsKids.\n",
        "*   37.71% (1944) missing values in the feature Occ.\n",
        "*   39.25% (2041) missing values in the feature HealthType.\n",
        "\n"
      ]
    },
    {
      "cell_type": "markdown",
      "metadata": {
        "deletable": false,
        "editable": false,
        "nbgrader": {
          "cell_type": "markdown",
          "checksum": "0648b1bea74a0d0807bbb77f36069ac9",
          "grade": false,
          "grade_id": "cell-43f69749805d766d",
          "locked": true,
          "schema_version": 3,
          "solution": false,
          "task": false
        },
        "tags": [],
        "id": "uXLjuAmKlOSd"
      },
      "source": [
        "### **b. Irregular cardinality**"
      ]
    },
    {
      "cell_type": "markdown",
      "metadata": {
        "deletable": false,
        "nbgrader": {
          "cell_type": "markdown",
          "checksum": "0eaf1cc5ff69d3bd8b371fb3564b01b4",
          "grade": true,
          "grade_id": "cell-c3d69a51d93684e5",
          "locked": false,
          "points": 1,
          "schema_version": 3,
          "solution": true,
          "task": false
        },
        "tags": [],
        "id": "WpDEuwuflOSd"
      },
      "source": [
        "*  The cardinality of the feature HealthDepsAdults, which is equal to 4 , and that of the feature HealthDepsKids, which is equal to 5, is irregular for a numerical feature.\n",
        "\n",
        "*  The cardinality of the feature HealthTypes, which is equal to 4 and it should be 3\\\n",
        "but the 4th one is for the missing values\n",
        "\n",
        "\n",
        "* The cardinality of the feature Occ equals 1828, which is irregular for a categorical feature."
      ]
    },
    {
      "cell_type": "markdown",
      "metadata": {
        "deletable": false,
        "editable": false,
        "nbgrader": {
          "cell_type": "markdown",
          "checksum": "ff9d7b790ec27422ef11ccf784a19695",
          "grade": false,
          "grade_id": "cell-656a03aa7f112b6e",
          "locked": true,
          "schema_version": 3,
          "solution": false,
          "task": false
        },
        "tags": [],
        "id": "kybs8JiLlOSd"
      },
      "source": [
        "### **c. Outliers**"
      ]
    },
    {
      "cell_type": "markdown",
      "metadata": {
        "deletable": false,
        "nbgrader": {
          "cell_type": "markdown",
          "checksum": "3470520ba9ccdbc32bf89e084d89ad4f",
          "grade": true,
          "grade_id": "cell-d71bc10c21b4f113",
          "locked": false,
          "points": 1,
          "schema_version": 3,
          "solution": true,
          "task": false
        },
        "tags": [],
        "id": "SDdsvSuAlOSd"
      },
      "source": [
        "The feature MotorValue has outliers at minimum and maximum."
      ]
    },
    {
      "cell_type": "markdown",
      "metadata": {
        "deletable": false,
        "editable": false,
        "nbgrader": {
          "cell_type": "markdown",
          "checksum": "100abb03a6408902fcec9eefca6cb44e",
          "grade": false,
          "grade_id": "cell-ba0ab9f7353e3ea8",
          "locked": true,
          "schema_version": 3,
          "solution": false,
          "task": false
        },
        "tags": [],
        "id": "UIH88vV3lOSd"
      },
      "source": [
        "### **d. Feature distributions**"
      ]
    },
    {
      "cell_type": "markdown",
      "metadata": {
        "deletable": false,
        "nbgrader": {
          "cell_type": "markdown",
          "checksum": "1b381e21854305df86fbf9e851555b19",
          "grade": true,
          "grade_id": "cell-b1868c86bebabb0e",
          "locked": false,
          "points": 1,
          "schema_version": 3,
          "solution": true,
          "task": false
        },
        "tags": [],
        "id": "IPN8vOldlOSd"
      },
      "source": [
        "* The feature Age is multi-modal.\n",
        "* The feature MotorValue is skewed to the right.\n",
        "* The feature HealthDepsAdults is Normal (uni-modal)\n",
        "* The feature HealthDepskids is \n",
        "* The feature HelathType is  Normal unimodel wihtout the missing values, with the missing values it is uniform\n",
        "* The feature PrefChannel is skewed to the right."
      ]
    },
    {
      "cell_type": "markdown",
      "metadata": {
        "deletable": false,
        "editable": false,
        "nbgrader": {
          "cell_type": "markdown",
          "checksum": "73d68e8694bbe5f8e90dbb404ffadd68",
          "grade": false,
          "grade_id": "partD",
          "locked": true,
          "schema_version": 3,
          "solution": false,
          "task": false
        },
        "tags": [],
        "id": "ugnZNbUFlOSd"
      },
      "source": [
        "---\n",
        "## Question 4 (0.5 points each - 2.5 total)\n",
        "\n",
        "Comment on the distributions of the features shown in each of the following\n",
        "histograms.\n",
        "\n",
        "1. (a) The height of employees in a truck driving company.\n",
        "2. (b) The number of prior criminal convictions held by people given prison sentences in a city district over the course of a full year.\n",
        "3. (c) The LDL cholesterol values for a large group of patients, including smokers and non-smokers.\n",
        "4. (d) The employee ID numbers of the academic staff at a university.\n",
        "5. (e) The salaries of motor insurance policy holders.\n",
        "\n",
        "<img src=\"https://i.ibb.co/vj5mh5m/fig-7.png\" alt=\"fig-7\" border=\"0\" width=1000 height=600>\n"
      ]
    },
    {
      "cell_type": "markdown",
      "metadata": {
        "deletable": false,
        "nbgrader": {
          "cell_type": "markdown",
          "checksum": "ff6b84b912d313dbec0c5e6fd6d95a2d",
          "grade": true,
          "grade_id": "cell-08545539dca58abe",
          "locked": false,
          "points": 2.5,
          "schema_version": 3,
          "solution": true,
          "task": false
        },
        "tags": [],
        "id": "P4Rb9m18lOSe"
      },
      "source": [
        "1.   (a) The distribution is normal and uni-modal, the median is  equal to the mean.\n",
        "2.   (b) The distribution is exponentially distributed. \n",
        "3.   (c) The distribution is multi-modal.\n",
        "4.   (d) The distribution is  uniform.\n",
        "5.   (e) The distribution is skewed to the right and uni-modal."
      ]
    },
    {
      "cell_type": "markdown",
      "metadata": {
        "deletable": false,
        "editable": false,
        "nbgrader": {
          "cell_type": "markdown",
          "checksum": "81271fcceecd8298220b5e351c7f53fe",
          "grade": false,
          "grade_id": "cell-cdb8ce44c48e5b1d",
          "locked": true,
          "schema_version": 3,
          "solution": false,
          "task": false
        },
        "tags": [],
        "id": "USehV-2OlOSe"
      },
      "source": [
        "---\n",
        "## Question 5 (4 points)\n",
        "\n",
        "Tachycardia is a condition that causes the heart to beat faster than normal at\n",
        "rest. The occurrence of tachycardia can have serious implications including increased\n",
        "risk of stroke or sudden cardiac arrest. An analytics consultant has been hired by a\n",
        "major hospital to build a predictive model that predicts the likelihood that a patient at a\n",
        "heart disease clinic will suffer from tachycardia in the month following a visit to the\n",
        "clinic. The hospital will use this model to make predictions for each patient when they\n",
        "visit the clinic and offer increased monitoring for those deemed to be at risk. The\n",
        "analytics consultant has generated an ABT to be used to train this model.\n",
        "\n",
        "The\n",
        "descriptive features in this dataset are defined as follows:\n",
        "- AGE: The patient’s age\n",
        "- GENDER: The patient’s gender (male or female)\n",
        "- WEIGHT: The patient’s weight\n",
        "- HEIGHT: The patient’s height\n",
        "- BMI: The patient’s body mass index (BMI) which is calculated as where weight is measured in kilograms and height in meters.\n",
        "- SYS. B.P.: The patient’s systolic blood pressure\n",
        "- DIA. B.P.: The patient’s diastolic blood pressure\n",
        "- HEART RATE: The patient’s heart rate\n",
        "- H.R. DIFF.: The difference between the patient’s heart rate at this visit and at their last visit to the clinic\n",
        "- PREV. TACHY.: Has the patient suffered from tachycardia before?\n",
        "- TACHYCARDIA: Is the patient at high risk of suffering from tachycardia in the next month?\n",
        "The following table contains an extract from this ABT—the full ABT contains 2,440\n",
        "instances.\n",
        "\n",
        "<img src=\"https://i.ibb.co/xD8RdkZ/table-9.png\" alt=\"table-9\" border=\"0\" width=1000 height=500>\n",
        "\n",
        "**The consultant generated the following data quality report from the ABT.**\n",
        "\n",
        "<img src=\"https://i.ibb.co/jH1T8fx/table-9-DQR-a.png\" alt=\"table-9-DQR-a\" border=\"0\" width=1000 height=500>\n",
        "\n",
        "<img src=\"https://i.ibb.co/KrytQgW/table-9-DQR-b.png\" alt=\"table-9-DQR-b\" border=\"0\" width=1000 height=1000>\n",
        "\n",
        "\n",
        "Discuss this data quality report in terms of the following:\n",
        "\n",
        "\n",
        "### **a. Missing values**"
      ]
    },
    {
      "cell_type": "markdown",
      "metadata": {
        "deletable": false,
        "nbgrader": {
          "cell_type": "markdown",
          "checksum": "75925b6789dd3f74357b5a4a40e0e0c8",
          "grade": true,
          "grade_id": "cell-7db291c6a52bce65",
          "locked": false,
          "points": 1,
          "schema_version": 3,
          "solution": true,
          "task": false
        },
        "tags": [],
        "id": "zJu1vzPOlOSe"
      },
      "source": [
        "* There is 13.03% ($317.932 \\approx 318$) missing values in the feature H.R. Diff. .\n",
        "\n",
        "* There is 44.02% ($1074.088 \\approx 1074$) missing values in the feature Prev. Tachy. .\n",
        "\n",
        "* There is 2.01% ($49.044 \\approx 49$) missing values in the feature Tachycardia."
      ]
    },
    {
      "cell_type": "markdown",
      "metadata": {
        "deletable": false,
        "editable": false,
        "nbgrader": {
          "cell_type": "markdown",
          "checksum": "1068c997620ca3493ee5c0821d6a6e7a",
          "grade": false,
          "grade_id": "cell-4dfd832d3c69f5cc",
          "locked": true,
          "schema_version": 3,
          "solution": false,
          "task": false
        },
        "tags": [],
        "id": "fRChocmzlOSe"
      },
      "source": [
        "### **b. Irregular Cardinality**"
      ]
    },
    {
      "cell_type": "markdown",
      "metadata": {
        "deletable": false,
        "nbgrader": {
          "cell_type": "markdown",
          "checksum": "0f454c524924094db12943d5157f0dbf",
          "grade": true,
          "grade_id": "cell-ec97bec03f63e127",
          "locked": false,
          "points": 1,
          "schema_version": 3,
          "solution": true,
          "task": false
        },
        "tags": [],
        "id": "27YMqnfdlOSe"
      },
      "source": [
        "* The Age feature's cardinality is 7, which is irregular for a numerical feature. except if the data is on childs only that are less than 7 years old or eual to it.\n",
        "* Gender feature's cardinality is 4 and it should be 2 (the entery is male,m,f and female)\n",
        "* PREV. TACHY feature's cardinality is 3 and it should be 2 (true and false), the third option(null) no entry\n",
        "* TACHYCARDIA feature's cardinality is 3 and it should be 2 (true and false), the third option(null) no entry\n"
      ]
    },
    {
      "cell_type": "markdown",
      "metadata": {
        "deletable": false,
        "editable": false,
        "nbgrader": {
          "cell_type": "markdown",
          "checksum": "95d6e4ecbe4f3961e71d3b38ca228602",
          "grade": false,
          "grade_id": "cell-0a0e08f423c64ff6",
          "locked": true,
          "schema_version": 3,
          "solution": false,
          "task": false
        },
        "tags": [],
        "id": "bYM6XlyGlOSe"
      },
      "source": [
        "### **c. Outliers**"
      ]
    },
    {
      "cell_type": "markdown",
      "metadata": {
        "deletable": false,
        "nbgrader": {
          "cell_type": "markdown",
          "checksum": "8d1f47311f5b1f1e981996df4d348357",
          "grade": true,
          "grade_id": "cell-386e3976976c636f",
          "locked": false,
          "points": 1,
          "schema_version": 3,
          "solution": true,
          "task": false
        },
        "tags": [],
        "id": "cssER1xQlOSe"
      },
      "source": [
        "**There are outliers in the following features:**\n",
        "* BMI\n",
        "* Sys. B.P.\n",
        "* Dia. B.P.\n",
        "* Heart Rate\n",
        "* H.R. Diff."
      ]
    },
    {
      "cell_type": "markdown",
      "metadata": {
        "deletable": false,
        "editable": false,
        "nbgrader": {
          "cell_type": "markdown",
          "checksum": "762edebe85d395ebb4806e4d29cca510",
          "grade": false,
          "grade_id": "cell-a1452fc80f385ee5",
          "locked": true,
          "schema_version": 3,
          "solution": false,
          "task": false
        },
        "tags": [],
        "id": "Px9LzUbGlOSf"
      },
      "source": [
        "### **d. Features Distributions**"
      ]
    },
    {
      "cell_type": "markdown",
      "metadata": {
        "deletable": false,
        "nbgrader": {
          "cell_type": "markdown",
          "checksum": "9d0973dc964061d9ca10d8c791707858",
          "grade": true,
          "grade_id": "cell-def8f081d95ce2ae",
          "locked": false,
          "points": 1,
          "schema_version": 3,
          "solution": true,
          "task": false
        },
        "tags": [],
        "id": "aSxKhm5glOSf"
      },
      "source": [
        "* The feature Age is uni-modal and normal.\n",
        "\n",
        "* The gender feature has 4 categories, which is irregular and there is a duplicate category with a different spelling.\n",
        "\n",
        "* The feature Weight is uni-modal and normal.\n",
        "\n",
        "* The distribution of the feature Height is normal without the zero entry.\n",
        "\n",
        "* The feature BMI most of the values are zeros.\n",
        "\n",
        "* The feature Sys. B.P. is uni-modal and skewed to the right.\n",
        "\n",
        "* The feature Dia. B.P. is uni-modal and skewed to the right.\n",
        "\n",
        "* The feature Heart Rate is (Normal)Multi-modal and it is skewed slightly to the left."
      ]
    }
  ],
  "metadata": {
    "kernelspec": {
      "display_name": "Python 3 (ipykernel)",
      "language": "python",
      "name": "python3"
    },
    "language_info": {
      "codemirror_mode": {
        "name": "ipython",
        "version": 3
      },
      "file_extension": ".py",
      "mimetype": "text/x-python",
      "name": "python",
      "nbconvert_exporter": "python",
      "pygments_lexer": "ipython3",
      "version": "3.10.9"
    },
    "colab": {
      "provenance": [],
      "include_colab_link": true
    },
    "gpuClass": "standard"
  },
  "nbformat": 4,
  "nbformat_minor": 0
}