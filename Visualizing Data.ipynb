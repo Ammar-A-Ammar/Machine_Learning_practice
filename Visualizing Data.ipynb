{
  "cells": [
    {
      "cell_type": "markdown",
      "metadata": {
        "id": "view-in-github",
        "colab_type": "text"
      },
      "source": [
        "<a href=\"https://colab.research.google.com/github/Ammar-A-Ammar/Machine_Learning_projects/blob/main/Visualizing%20Data.ipynb\" target=\"_parent\"><img src=\"https://colab.research.google.com/assets/colab-badge.svg\" alt=\"Open In Colab\"/></a>"
      ]
    },
    {
      "cell_type": "markdown",
      "metadata": {
        "id": "rYJveNAaQa6N"
      },
      "source": [
        "---\n",
        "# Cairo University Faculty of Engineering\n",
        "## Data Mining and Machine Learning\n",
        "\n",
        "---"
      ]
    },
    {
      "cell_type": "markdown",
      "metadata": {
        "id": "o70F0RUnQa6P"
      },
      "source": [
        "## Instructions\n",
        "- Before you turn this problem in, make sure everything runs as expected. First, **restart the kernel** (in the menubar, select Kernel$\\rightarrow$Restart) and then **run all cells** (in the menubar, select Cell$\\rightarrow$Run All).\n",
        "- Don't change any of the cells.\n",
        "- If you add cells make sure to remove them before you submit\n",
        "- ONLY fill in any place that says `YOUR CODE HERE` or \"YOUR ANSWER HERE\", \n",
        "- Fill in your **full name** below inside \"\""
      ]
    },
    {
      "cell_type": "code",
      "execution_count": null,
      "metadata": {
        "id": "jEEPwGpFQa6Q"
      },
      "outputs": [],
      "source": [
        "NAME = \"Ammar Ahmed Ammar\""
      ]
    },
    {
      "cell_type": "markdown",
      "metadata": {
        "id": "-N42_3S-Qa6R"
      },
      "source": [
        "---"
      ]
    },
    {
      "cell_type": "markdown",
      "metadata": {
        "deletable": false,
        "editable": false,
        "nbgrader": {
          "cell_type": "markdown",
          "checksum": "0e8bdb6893584a18a3f5f39df5ee8150",
          "grade": false,
          "grade_id": "cell-ba4bb17d51b75021",
          "locked": true,
          "schema_version": 3,
          "solution": false,
          "task": false
        },
        "tags": [],
        "id": "gVsY0qDMQa6R"
      },
      "source": [
        "---\n",
        "## Question 1 (3 points)"
      ]
    },
    {
      "cell_type": "markdown",
      "metadata": {
        "deletable": false,
        "editable": false,
        "nbgrader": {
          "cell_type": "markdown",
          "checksum": "5c469c9c194f8c93fd3a8874a8491d3e",
          "grade": false,
          "grade_id": "cell-4c8cd51be290380b",
          "locked": true,
          "schema_version": 3,
          "solution": false,
          "task": false
        },
        "tags": [],
        "id": "mZ7ZcwdYQa6R"
      },
      "source": [
        "An analytics consultant at an insurance company has built an ABT that\n",
        "will be used to train a model to predict the best communications channel\n",
        "to use to contact a potential customer with an offer of a new insurance\n",
        "product. The following table contains an extract from this ABT—the full\n",
        "ABT contains 5,200 instances.\n",
        "\n",
        "The descriptive features in this dataset are defined as follows:\n",
        "- AGE: The customer’s age\n",
        "- GENDER: The customer’s gender (male or female)\n",
        "- LOC: The customer’s location (rural or urban)\n",
        "- OCC: The customer’s occupation\n",
        "- MOTORINS: Whether the customer holds a motor insurance policy with the company (yes or no)\n",
        "- MOTORVALUE: The value of the car on the motor policy\n",
        "- HEALTHINS: Whether the customer holds a health insurance policy with the company (yes or no)\n",
        "- HEALTHTYPE: The type of the health insurance policy (PlanA, PlanB, or PlanC)\n",
        "- HEALTHDEPSADULTS: How many dependent adults are included on the health insurance policy\n",
        "- HEALTHDEPSKIDS: How many dependent children are included on the health insurance policy\n",
        "- PREFCHANNEL: The customer’s preferred contact channel (email, phone, or sms)\n",
        "\n",
        "<a href=\"https://ibb.co/mNHWP2G\"><img src=\"https://i.ibb.co/J3zJSGK/table-3.png\" alt=\"table-3\" border=\"0\" width=\"500\" height=\"600\"></a>\n",
        "\n",
        "The consultant generated the following data visualizations. Each visualization illustrates the relationship between a\n",
        "descriptive feature and the target feature, PREFCHANNEL. Each visualization is\n",
        "composed of four plots: one plot of the distribution of the descriptive feature values in the entire dataset, and three plots illustrating the distribution of the descriptive feature\n",
        "values for each level of the target. \n",
        "\n",
        "\n",
        "**Discuss the strength of the relationships shown in\n",
        "each visualizations.**\n",
        "\n",
        "\n",
        "### a.  visualization 1\n",
        "The visualization below illustrates the relationship between the continuous feature AGE and the target feature, PREFCHANNEL.\n",
        "\n",
        "<img src=\"https://i.ibb.co/RQc24wW/fig-4.png\" alt=\"fig-4\" border=\"0\" width=\"1000\" height=\"600\">"
      ]
    },
    {
      "cell_type": "markdown",
      "metadata": {
        "deletable": false,
        "nbgrader": {
          "cell_type": "markdown",
          "checksum": "c0b73b9afed36342d1dc12029224dbd3",
          "grade": true,
          "grade_id": "cell-2d53f7c1662f6941",
          "locked": false,
          "points": 1,
          "schema_version": 3,
          "solution": true,
          "task": false
        },
        "tags": [],
        "id": "oeq38JAGQa6S"
      },
      "source": [
        "* People at age near 20 strongly prefer SMS\n",
        "* People at age near 50  prefer Phone and people ate age near 70 is okay with it.\n",
        "* People at age near 20 and near 50 nearly equal emails\n",
        "\n"
      ]
    },
    {
      "cell_type": "markdown",
      "metadata": {
        "deletable": false,
        "editable": false,
        "nbgrader": {
          "cell_type": "markdown",
          "checksum": "d8aa2e897eb36ff5feb4570c88a3a88c",
          "grade": false,
          "grade_id": "cell-87b0f63aa4fd6fff",
          "locked": true,
          "schema_version": 3,
          "solution": false,
          "task": false
        },
        "tags": [],
        "id": "qoG2iGKcQa6S"
      },
      "source": [
        "### b. visualization 2\n",
        "\n",
        "The visualization below illustrates the relationship between the categorical feature GENDER and the target feature PREFCHANNEL.\n",
        "\n",
        "<img src=\"https://i.ibb.co/Htvd4W0/fig-4-b.png\" alt=\"fig-4-b\" border=\"0\" width=\"1000\" height=\"600\">"
      ]
    },
    {
      "cell_type": "markdown",
      "metadata": {
        "deletable": false,
        "nbgrader": {
          "cell_type": "markdown",
          "checksum": "55fb4a4e2fad818d23e2f87e22e249af",
          "grade": true,
          "grade_id": "cell-bad18c1d086bb4d3",
          "locked": false,
          "points": 1,
          "schema_version": 3,
          "solution": true,
          "task": false
        },
        "tags": [],
        "id": "NPV95duIQa6T"
      },
      "source": [
        "NO relation between the visualization"
      ]
    },
    {
      "cell_type": "markdown",
      "metadata": {
        "deletable": false,
        "editable": false,
        "nbgrader": {
          "cell_type": "markdown",
          "checksum": "8a4307799c2649ea06d6870e0b50d55f",
          "grade": false,
          "grade_id": "cell-2da04e7b482293f3",
          "locked": true,
          "schema_version": 3,
          "solution": false,
          "task": false
        },
        "tags": [],
        "id": "wayi7sjDQa6T"
      },
      "source": [
        "### c. visualization 3\n",
        "\n",
        "The visualization below illustrates the relationship between the categorical feature LOC and the target feature, PREFCHANNEL\n",
        "\n",
        "<img src=\"https://i.ibb.co/Mn1V1Z8/fig-4-c.png\" alt=\"fig-4-c\" border=\"0\" width=\"1000\" height=\"600\">"
      ]
    },
    {
      "cell_type": "markdown",
      "metadata": {
        "deletable": false,
        "nbgrader": {
          "cell_type": "markdown",
          "checksum": "46fc1a7abee1a925125e357bd34832c6",
          "grade": true,
          "grade_id": "cell-2190053e11242791",
          "locked": false,
          "points": 1,
          "schema_version": 3,
          "solution": true,
          "task": false
        },
        "tags": [],
        "id": "reEABispQa6T"
      },
      "source": [
        "Rural aeras is more likely use Phone\n",
        "\n",
        "while\n",
        "Usrban areas is more likely to use SMS & Email "
      ]
    },
    {
      "cell_type": "markdown",
      "metadata": {
        "deletable": false,
        "editable": false,
        "nbgrader": {
          "cell_type": "markdown",
          "checksum": "6842d3f6333b1a437f013cfbf2ea03e9",
          "grade": false,
          "grade_id": "cell-1499d4be2b89b9b5",
          "locked": true,
          "schema_version": 3,
          "solution": false,
          "task": false
        },
        "tags": [],
        "id": "2xjnZGv4Qa6U"
      },
      "source": [
        "---\n",
        "\n",
        "## Question 2 (3 point)\n",
        "\n",
        "The table below shows the scores achieved by a group of students on an exam. Using the following dataframe perform the following tasks on SCORE feature"
      ]
    },
    {
      "cell_type": "code",
      "execution_count": null,
      "metadata": {
        "deletable": false,
        "editable": false,
        "nbgrader": {
          "cell_type": "code",
          "checksum": "49998775aeab4c800c316b7eb0d3b884",
          "grade": false,
          "grade_id": "cell-e5ed3e296d524dfa",
          "locked": true,
          "schema_version": 3,
          "solution": false,
          "task": false
        },
        "tags": [],
        "colab": {
          "base_uri": "https://localhost:8080/",
          "height": 81
        },
        "id": "YOqiRLZyQa6U",
        "outputId": "7201c1eb-8d2f-48df-8278-08f7243df38d"
      },
      "outputs": [
        {
          "output_type": "execute_result",
          "data": {
            "text/plain": [
              "ID     1   2   3   4   5   6   7   8   9   10  11  12  13  14  15  16  17  18  \\\n",
              "SCORE  42  47  59  27  84  49  72  43  73  59  58  82  50  79  89  75  70  59   \n",
              "\n",
              "ID     19  20  \n",
              "SCORE  67  35  "
            ],
            "text/html": [
              "\n",
              "  <div id=\"df-9e43306d-ff1d-4342-9f8f-08990b997fcd\">\n",
              "    <div class=\"colab-df-container\">\n",
              "      <div>\n",
              "<style scoped>\n",
              "    .dataframe tbody tr th:only-of-type {\n",
              "        vertical-align: middle;\n",
              "    }\n",
              "\n",
              "    .dataframe tbody tr th {\n",
              "        vertical-align: top;\n",
              "    }\n",
              "\n",
              "    .dataframe thead th {\n",
              "        text-align: right;\n",
              "    }\n",
              "</style>\n",
              "<table border=\"1\" class=\"dataframe\">\n",
              "  <thead>\n",
              "    <tr style=\"text-align: right;\">\n",
              "      <th>ID</th>\n",
              "      <th>1</th>\n",
              "      <th>2</th>\n",
              "      <th>3</th>\n",
              "      <th>4</th>\n",
              "      <th>5</th>\n",
              "      <th>6</th>\n",
              "      <th>7</th>\n",
              "      <th>8</th>\n",
              "      <th>9</th>\n",
              "      <th>10</th>\n",
              "      <th>11</th>\n",
              "      <th>12</th>\n",
              "      <th>13</th>\n",
              "      <th>14</th>\n",
              "      <th>15</th>\n",
              "      <th>16</th>\n",
              "      <th>17</th>\n",
              "      <th>18</th>\n",
              "      <th>19</th>\n",
              "      <th>20</th>\n",
              "    </tr>\n",
              "  </thead>\n",
              "  <tbody>\n",
              "    <tr>\n",
              "      <th>SCORE</th>\n",
              "      <td>42</td>\n",
              "      <td>47</td>\n",
              "      <td>59</td>\n",
              "      <td>27</td>\n",
              "      <td>84</td>\n",
              "      <td>49</td>\n",
              "      <td>72</td>\n",
              "      <td>43</td>\n",
              "      <td>73</td>\n",
              "      <td>59</td>\n",
              "      <td>58</td>\n",
              "      <td>82</td>\n",
              "      <td>50</td>\n",
              "      <td>79</td>\n",
              "      <td>89</td>\n",
              "      <td>75</td>\n",
              "      <td>70</td>\n",
              "      <td>59</td>\n",
              "      <td>67</td>\n",
              "      <td>35</td>\n",
              "    </tr>\n",
              "  </tbody>\n",
              "</table>\n",
              "</div>\n",
              "      <button class=\"colab-df-convert\" onclick=\"convertToInteractive('df-9e43306d-ff1d-4342-9f8f-08990b997fcd')\"\n",
              "              title=\"Convert this dataframe to an interactive table.\"\n",
              "              style=\"display:none;\">\n",
              "        \n",
              "  <svg xmlns=\"http://www.w3.org/2000/svg\" height=\"24px\"viewBox=\"0 0 24 24\"\n",
              "       width=\"24px\">\n",
              "    <path d=\"M0 0h24v24H0V0z\" fill=\"none\"/>\n",
              "    <path d=\"M18.56 5.44l.94 2.06.94-2.06 2.06-.94-2.06-.94-.94-2.06-.94 2.06-2.06.94zm-11 1L8.5 8.5l.94-2.06 2.06-.94-2.06-.94L8.5 2.5l-.94 2.06-2.06.94zm10 10l.94 2.06.94-2.06 2.06-.94-2.06-.94-.94-2.06-.94 2.06-2.06.94z\"/><path d=\"M17.41 7.96l-1.37-1.37c-.4-.4-.92-.59-1.43-.59-.52 0-1.04.2-1.43.59L10.3 9.45l-7.72 7.72c-.78.78-.78 2.05 0 2.83L4 21.41c.39.39.9.59 1.41.59.51 0 1.02-.2 1.41-.59l7.78-7.78 2.81-2.81c.8-.78.8-2.07 0-2.86zM5.41 20L4 18.59l7.72-7.72 1.47 1.35L5.41 20z\"/>\n",
              "  </svg>\n",
              "      </button>\n",
              "      \n",
              "  <style>\n",
              "    .colab-df-container {\n",
              "      display:flex;\n",
              "      flex-wrap:wrap;\n",
              "      gap: 12px;\n",
              "    }\n",
              "\n",
              "    .colab-df-convert {\n",
              "      background-color: #E8F0FE;\n",
              "      border: none;\n",
              "      border-radius: 50%;\n",
              "      cursor: pointer;\n",
              "      display: none;\n",
              "      fill: #1967D2;\n",
              "      height: 32px;\n",
              "      padding: 0 0 0 0;\n",
              "      width: 32px;\n",
              "    }\n",
              "\n",
              "    .colab-df-convert:hover {\n",
              "      background-color: #E2EBFA;\n",
              "      box-shadow: 0px 1px 2px rgba(60, 64, 67, 0.3), 0px 1px 3px 1px rgba(60, 64, 67, 0.15);\n",
              "      fill: #174EA6;\n",
              "    }\n",
              "\n",
              "    [theme=dark] .colab-df-convert {\n",
              "      background-color: #3B4455;\n",
              "      fill: #D2E3FC;\n",
              "    }\n",
              "\n",
              "    [theme=dark] .colab-df-convert:hover {\n",
              "      background-color: #434B5C;\n",
              "      box-shadow: 0px 1px 3px 1px rgba(0, 0, 0, 0.15);\n",
              "      filter: drop-shadow(0px 1px 2px rgba(0, 0, 0, 0.3));\n",
              "      fill: #FFFFFF;\n",
              "    }\n",
              "  </style>\n",
              "\n",
              "      <script>\n",
              "        const buttonEl =\n",
              "          document.querySelector('#df-9e43306d-ff1d-4342-9f8f-08990b997fcd button.colab-df-convert');\n",
              "        buttonEl.style.display =\n",
              "          google.colab.kernel.accessAllowed ? 'block' : 'none';\n",
              "\n",
              "        async function convertToInteractive(key) {\n",
              "          const element = document.querySelector('#df-9e43306d-ff1d-4342-9f8f-08990b997fcd');\n",
              "          const dataTable =\n",
              "            await google.colab.kernel.invokeFunction('convertToInteractive',\n",
              "                                                     [key], {});\n",
              "          if (!dataTable) return;\n",
              "\n",
              "          const docLinkHtml = 'Like what you see? Visit the ' +\n",
              "            '<a target=\"_blank\" href=https://colab.research.google.com/notebooks/data_table.ipynb>data table notebook</a>'\n",
              "            + ' to learn more about interactive tables.';\n",
              "          element.innerHTML = '';\n",
              "          dataTable['output_type'] = 'display_data';\n",
              "          await google.colab.output.renderOutput(dataTable, element);\n",
              "          const docLink = document.createElement('div');\n",
              "          docLink.innerHTML = docLinkHtml;\n",
              "          element.appendChild(docLink);\n",
              "        }\n",
              "      </script>\n",
              "    </div>\n",
              "  </div>\n",
              "  "
            ]
          },
          "metadata": {},
          "execution_count": 2
        }
      ],
      "source": [
        "import pandas as pd\n",
        "import numpy as np\n",
        "scores = [42, 47, 59, 27, 84, 49, 72 ,43, 73, 59, 58, 82, 50, 79, 89, 75, 70, 59, 67, 35]\n",
        "table_2 = pd.DataFrame(scores, columns=[\"SCORE\"])\n",
        "table_2.index.name = \"ID\"\n",
        "table_2.index += 1 \n",
        "table_2.T"
      ]
    },
    {
      "cell_type": "markdown",
      "metadata": {
        "deletable": false,
        "editable": false,
        "nbgrader": {
          "cell_type": "markdown",
          "checksum": "e7df30a952a199666d4b6bc687e3c1fb",
          "grade": false,
          "grade_id": "cell-081b548a088ef1cb",
          "locked": true,
          "schema_version": 3,
          "solution": false,
          "task": false
        },
        "tags": [],
        "id": "2eVGFZgXQa6U"
      },
      "source": [
        "### a. A range normalization \n",
        "\n",
        "that generates data in the range (0,1). Your function should return table_2 data frame after normalization."
      ]
    },
    {
      "cell_type": "code",
      "execution_count": null,
      "metadata": {
        "deletable": false,
        "nbgrader": {
          "cell_type": "code",
          "checksum": "f71489f106cf48e645bddd223397c597",
          "grade": false,
          "grade_id": "mode",
          "locked": false,
          "schema_version": 3,
          "solution": true,
          "task": false
        },
        "tags": [],
        "id": "It5VjiurQa6U"
      },
      "outputs": [],
      "source": [
        "def range_normalize_a(df):\n",
        "    \"\"\"calculate the range normalization of a dataframe, \n",
        "    return a dataframe with data ranging from 0 to 1. \"\"\"\n",
        "    # YOUR CODE HERE\n",
        "    x_norm_a = (df-np.min(df))/(np.max(df)-np.min(df))\n",
        "\n",
        "    return x_norm_a"
      ]
    },
    {
      "cell_type": "code",
      "execution_count": null,
      "metadata": {
        "deletable": false,
        "editable": false,
        "nbgrader": {
          "cell_type": "code",
          "checksum": "f1f63278b3b71a208e7ac6fe99a1113e",
          "grade": true,
          "grade_id": "correct_mode",
          "locked": true,
          "points": 1,
          "schema_version": 3,
          "solution": false,
          "task": false
        },
        "tags": [],
        "id": "sFo7ca5WQa6U"
      },
      "outputs": [],
      "source": [
        "#print(range_normalize_a(table_2)) # submit with this line commented"
      ]
    },
    {
      "cell_type": "markdown",
      "metadata": {
        "deletable": false,
        "editable": false,
        "nbgrader": {
          "cell_type": "markdown",
          "checksum": "d7bab74e3ca236e988c54a164a1b58e0",
          "grade": false,
          "grade_id": "cell-fe4f701dd58af234",
          "locked": true,
          "schema_version": 3,
          "solution": false,
          "task": false
        },
        "tags": [],
        "id": "yqcfSW_3Qa6V"
      },
      "source": [
        "### b. A range normalization (-1,1)\n",
        "\n",
        "that generates data in the range (-1,1). Your function should return table_2 data frame after normalization."
      ]
    },
    {
      "cell_type": "code",
      "execution_count": null,
      "metadata": {
        "deletable": false,
        "nbgrader": {
          "cell_type": "code",
          "checksum": "e2d6e7071cf001a8cfc5abf7a0f7ec26",
          "grade": false,
          "grade_id": "cell-bf77c8451f998e23",
          "locked": false,
          "schema_version": 3,
          "solution": true,
          "task": false
        },
        "tags": [],
        "id": "lF4CKPi-Qa6V"
      },
      "outputs": [],
      "source": [
        "def range_normalize_b(df):\n",
        "    \"\"\"calculate the range normalization of a dataframe, \n",
        "    return a dataframe with data ranging from -1 to 1. \"\"\"\n",
        "    # YOUR CODE HERE\n",
        "    x_norm_b = 2*((df-np.min(df))/(np.max(df)-np.min(df)))-1\n",
        "    \n",
        "    return x_norm_b"
      ]
    },
    {
      "cell_type": "code",
      "execution_count": null,
      "metadata": {
        "deletable": false,
        "editable": false,
        "nbgrader": {
          "cell_type": "code",
          "checksum": "1197f53b1899576027765020aa2e8ecd",
          "grade": true,
          "grade_id": "cell-f5898276d6b4279f",
          "locked": true,
          "points": 1,
          "schema_version": 3,
          "solution": false,
          "task": false
        },
        "tags": [],
        "id": "J7WE9WaJQa6V"
      },
      "outputs": [],
      "source": [
        "#print(range_normalize_b(table_2))  #submit with this line commented"
      ]
    },
    {
      "cell_type": "markdown",
      "metadata": {
        "deletable": false,
        "editable": false,
        "nbgrader": {
          "cell_type": "markdown",
          "checksum": "d3215f4dc54d159f6739c8e740f917ed",
          "grade": false,
          "grade_id": "cell-44a3589b3b94d112",
          "locked": true,
          "schema_version": 3,
          "solution": false,
          "task": false
        },
        "tags": [],
        "id": "KxnQhOxUQa6V"
      },
      "source": [
        "### c. A  standardization of the data\n",
        "\n",
        "Your function should return table_2 data frame after standardization."
      ]
    },
    {
      "cell_type": "code",
      "execution_count": null,
      "metadata": {
        "deletable": false,
        "nbgrader": {
          "cell_type": "code",
          "checksum": "587b2f7a209ed2ca01f9807a426ca9e6",
          "grade": false,
          "grade_id": "cell-4a35276938e7e20d",
          "locked": false,
          "schema_version": 3,
          "solution": true,
          "task": false
        },
        "tags": [],
        "id": "QAM4thyRQa6V"
      },
      "outputs": [],
      "source": [
        "def standardize(df):\n",
        "    \"\"\"calculate the standard normalization of a dataframe, \n",
        "    return a dataframe with mean 0 and std 1. \"\"\"\n",
        "    # YOUR CODE HERE\n",
        "    df_standard = (df-df.mean())/df.std()\n",
        "    return df_standard"
      ]
    },
    {
      "cell_type": "code",
      "execution_count": null,
      "metadata": {
        "deletable": false,
        "editable": false,
        "nbgrader": {
          "cell_type": "code",
          "checksum": "0769372342bcba28ec0343db0665a851",
          "grade": true,
          "grade_id": "cell-07f946868d8ceacd",
          "locked": true,
          "points": 1,
          "schema_version": 3,
          "solution": false,
          "task": false
        },
        "tags": [],
        "id": "Va1joleFQa6V"
      },
      "outputs": [],
      "source": [
        "#z=standardize(table_2)\n",
        "#print(z)  #submit with this line commented\n",
        "#print(z.mean())\n",
        "#print(z.std())"
      ]
    },
    {
      "cell_type": "markdown",
      "metadata": {
        "deletable": false,
        "editable": false,
        "nbgrader": {
          "cell_type": "markdown",
          "checksum": "c85c985bdba70bee311d96d15a739abc",
          "grade": false,
          "grade_id": "cell-28d71e8afd70b5e9",
          "locked": true,
          "schema_version": 3,
          "solution": false,
          "task": false
        },
        "tags": [],
        "id": "_AySv5m3Qa6V"
      },
      "source": [
        "## Question 3 (3 points)\n",
        "\n",
        "The following table shows the IQs for a group of people who applied to take part\n",
        "in a television general knowledge quiz.\n",
        "\n",
        "Using this dataset, generate the following binned versions of the IQ feature:"
      ]
    },
    {
      "cell_type": "code",
      "execution_count": null,
      "metadata": {
        "deletable": false,
        "editable": false,
        "nbgrader": {
          "cell_type": "code",
          "checksum": "03a1f1d92e10df6e6f2483c685200e0b",
          "grade": false,
          "grade_id": "cell-a42cfbddffa4f9a8",
          "locked": true,
          "schema_version": 3,
          "solution": false,
          "task": false
        },
        "tags": [],
        "colab": {
          "base_uri": "https://localhost:8080/",
          "height": 81
        },
        "id": "OyTW0n6rQa6W",
        "outputId": "c3f01f9f-4880-4e1d-e017-f61924ebacc2"
      },
      "outputs": [
        {
          "output_type": "execute_result",
          "data": {
            "text/plain": [
              "ID  1    2   3    4    5   6   7    8   9    10   11  12   13  14  15   16  \\\n",
              "IQ  92  107  83  101  107  92  99  119  93  106  105  88  106  90  97  118   \n",
              "\n",
              "ID   17  18   19   20  \n",
              "IQ  120  72  100  104  "
            ],
            "text/html": [
              "\n",
              "  <div id=\"df-f51db394-6514-44b5-867e-6d55e9290343\">\n",
              "    <div class=\"colab-df-container\">\n",
              "      <div>\n",
              "<style scoped>\n",
              "    .dataframe tbody tr th:only-of-type {\n",
              "        vertical-align: middle;\n",
              "    }\n",
              "\n",
              "    .dataframe tbody tr th {\n",
              "        vertical-align: top;\n",
              "    }\n",
              "\n",
              "    .dataframe thead th {\n",
              "        text-align: right;\n",
              "    }\n",
              "</style>\n",
              "<table border=\"1\" class=\"dataframe\">\n",
              "  <thead>\n",
              "    <tr style=\"text-align: right;\">\n",
              "      <th>ID</th>\n",
              "      <th>1</th>\n",
              "      <th>2</th>\n",
              "      <th>3</th>\n",
              "      <th>4</th>\n",
              "      <th>5</th>\n",
              "      <th>6</th>\n",
              "      <th>7</th>\n",
              "      <th>8</th>\n",
              "      <th>9</th>\n",
              "      <th>10</th>\n",
              "      <th>11</th>\n",
              "      <th>12</th>\n",
              "      <th>13</th>\n",
              "      <th>14</th>\n",
              "      <th>15</th>\n",
              "      <th>16</th>\n",
              "      <th>17</th>\n",
              "      <th>18</th>\n",
              "      <th>19</th>\n",
              "      <th>20</th>\n",
              "    </tr>\n",
              "  </thead>\n",
              "  <tbody>\n",
              "    <tr>\n",
              "      <th>IQ</th>\n",
              "      <td>92</td>\n",
              "      <td>107</td>\n",
              "      <td>83</td>\n",
              "      <td>101</td>\n",
              "      <td>107</td>\n",
              "      <td>92</td>\n",
              "      <td>99</td>\n",
              "      <td>119</td>\n",
              "      <td>93</td>\n",
              "      <td>106</td>\n",
              "      <td>105</td>\n",
              "      <td>88</td>\n",
              "      <td>106</td>\n",
              "      <td>90</td>\n",
              "      <td>97</td>\n",
              "      <td>118</td>\n",
              "      <td>120</td>\n",
              "      <td>72</td>\n",
              "      <td>100</td>\n",
              "      <td>104</td>\n",
              "    </tr>\n",
              "  </tbody>\n",
              "</table>\n",
              "</div>\n",
              "      <button class=\"colab-df-convert\" onclick=\"convertToInteractive('df-f51db394-6514-44b5-867e-6d55e9290343')\"\n",
              "              title=\"Convert this dataframe to an interactive table.\"\n",
              "              style=\"display:none;\">\n",
              "        \n",
              "  <svg xmlns=\"http://www.w3.org/2000/svg\" height=\"24px\"viewBox=\"0 0 24 24\"\n",
              "       width=\"24px\">\n",
              "    <path d=\"M0 0h24v24H0V0z\" fill=\"none\"/>\n",
              "    <path d=\"M18.56 5.44l.94 2.06.94-2.06 2.06-.94-2.06-.94-.94-2.06-.94 2.06-2.06.94zm-11 1L8.5 8.5l.94-2.06 2.06-.94-2.06-.94L8.5 2.5l-.94 2.06-2.06.94zm10 10l.94 2.06.94-2.06 2.06-.94-2.06-.94-.94-2.06-.94 2.06-2.06.94z\"/><path d=\"M17.41 7.96l-1.37-1.37c-.4-.4-.92-.59-1.43-.59-.52 0-1.04.2-1.43.59L10.3 9.45l-7.72 7.72c-.78.78-.78 2.05 0 2.83L4 21.41c.39.39.9.59 1.41.59.51 0 1.02-.2 1.41-.59l7.78-7.78 2.81-2.81c.8-.78.8-2.07 0-2.86zM5.41 20L4 18.59l7.72-7.72 1.47 1.35L5.41 20z\"/>\n",
              "  </svg>\n",
              "      </button>\n",
              "      \n",
              "  <style>\n",
              "    .colab-df-container {\n",
              "      display:flex;\n",
              "      flex-wrap:wrap;\n",
              "      gap: 12px;\n",
              "    }\n",
              "\n",
              "    .colab-df-convert {\n",
              "      background-color: #E8F0FE;\n",
              "      border: none;\n",
              "      border-radius: 50%;\n",
              "      cursor: pointer;\n",
              "      display: none;\n",
              "      fill: #1967D2;\n",
              "      height: 32px;\n",
              "      padding: 0 0 0 0;\n",
              "      width: 32px;\n",
              "    }\n",
              "\n",
              "    .colab-df-convert:hover {\n",
              "      background-color: #E2EBFA;\n",
              "      box-shadow: 0px 1px 2px rgba(60, 64, 67, 0.3), 0px 1px 3px 1px rgba(60, 64, 67, 0.15);\n",
              "      fill: #174EA6;\n",
              "    }\n",
              "\n",
              "    [theme=dark] .colab-df-convert {\n",
              "      background-color: #3B4455;\n",
              "      fill: #D2E3FC;\n",
              "    }\n",
              "\n",
              "    [theme=dark] .colab-df-convert:hover {\n",
              "      background-color: #434B5C;\n",
              "      box-shadow: 0px 1px 3px 1px rgba(0, 0, 0, 0.15);\n",
              "      filter: drop-shadow(0px 1px 2px rgba(0, 0, 0, 0.3));\n",
              "      fill: #FFFFFF;\n",
              "    }\n",
              "  </style>\n",
              "\n",
              "      <script>\n",
              "        const buttonEl =\n",
              "          document.querySelector('#df-f51db394-6514-44b5-867e-6d55e9290343 button.colab-df-convert');\n",
              "        buttonEl.style.display =\n",
              "          google.colab.kernel.accessAllowed ? 'block' : 'none';\n",
              "\n",
              "        async function convertToInteractive(key) {\n",
              "          const element = document.querySelector('#df-f51db394-6514-44b5-867e-6d55e9290343');\n",
              "          const dataTable =\n",
              "            await google.colab.kernel.invokeFunction('convertToInteractive',\n",
              "                                                     [key], {});\n",
              "          if (!dataTable) return;\n",
              "\n",
              "          const docLinkHtml = 'Like what you see? Visit the ' +\n",
              "            '<a target=\"_blank\" href=https://colab.research.google.com/notebooks/data_table.ipynb>data table notebook</a>'\n",
              "            + ' to learn more about interactive tables.';\n",
              "          element.innerHTML = '';\n",
              "          dataTable['output_type'] = 'display_data';\n",
              "          await google.colab.output.renderOutput(dataTable, element);\n",
              "          const docLink = document.createElement('div');\n",
              "          docLink.innerHTML = docLinkHtml;\n",
              "          element.appendChild(docLink);\n",
              "        }\n",
              "      </script>\n",
              "    </div>\n",
              "  </div>\n",
              "  "
            ]
          },
          "metadata": {},
          "execution_count": 9
        }
      ],
      "source": [
        "import matplotlib.pyplot as plt\n",
        "IQ = [92, 107, 83, 101, 107, 92, 99, 119, 93, 106, 105, 88, 106, 90, 97, 118, 120, 72, 100, 104]\n",
        "table_3 = pd.DataFrame(IQ, columns=[\"IQ\"])\n",
        "table_3.index.name = \"ID\"\n",
        "table_3.index += 1 \n",
        "table_3.T"
      ]
    },
    {
      "cell_type": "markdown",
      "metadata": {
        "deletable": false,
        "editable": false,
        "nbgrader": {
          "cell_type": "markdown",
          "checksum": "4ba698d6f940dece29e46e20f955138e",
          "grade": false,
          "grade_id": "cell-d39de903fffdad2c",
          "locked": true,
          "schema_version": 3,
          "solution": false,
          "task": false
        },
        "tags": [],
        "id": "PNO6AhFoQa6W"
      },
      "source": [
        "### a. an equal-width binning using 5 bins.\n",
        "\n",
        "- Plot both a bar plot and a density histogram of the dataframe after binning. \n",
        "- Name the axes in each plot.\n",
        "- Plot both in the same figure"
      ]
    },
    {
      "cell_type": "code",
      "execution_count": null,
      "metadata": {
        "deletable": false,
        "nbgrader": {
          "cell_type": "code",
          "checksum": "8c2ffec019835a869c264fb8117a7eca",
          "grade": true,
          "grade_id": "cell-f6cf376b6ba3bf95",
          "locked": false,
          "points": 2,
          "schema_version": 3,
          "solution": true,
          "task": false
        },
        "tags": [],
        "colab": {
          "base_uri": "https://localhost:8080/",
          "height": 678
        },
        "id": "obVEjMnAQa6W",
        "outputId": "6485beb2-3769-4abc-d2e1-046b341626e7"
      },
      "outputs": [
        {
          "output_type": "display_data",
          "data": {
            "text/plain": [
              "<Figure size 720x720 with 2 Axes>"
            ],
            "image/png": "[encoded data removed]"
          },
          "metadata": {
            "needs_background": "light"
          }
        }
      ],
      "source": [
        "categorical_object = pd.cut(table_3['IQ'], 5)\n",
        "#print(categorical_object)\n",
        "\n",
        "figure, axis = plt.subplots(2)\n",
        "plt.suptitle('Bar plot & Density histogram\\n Equal-Width using 5 bins')\n",
        "\n",
        "Catg_obj_bars_plot = categorical_object.value_counts(sort=False).plot.bar(rot=0, color=\"c\", figsize=(10,10), edgecolor='black', label=\"bar plot\",ax=axis[0],xlabel='Categorized IQ',ylabel='Frequency')\n",
        "\n",
        "#ax.set_xticklabels([c[1:-1].replace(\",\",\" to\") for c in categorical_object)\n",
        "#plt.hist(categorical_object.value_counts(), 5, histtype='bar', rwidth=0.8,)\n",
        "#Hist_bars_plot=plt.hist(categorical_object.value_counts(sort=False), 5, color=\"r\", histtype='bar', label=\"Density histogram\",alpha = 0.9,ax=axis[1])\n",
        "\n",
        "table_3.hist(color=\"g\",density=True,bins=5, label=\"Density histogram\",alpha = 0.5,ax=axis[1])\n",
        "axis[1].set_xlabel('Categorized IQ')\n",
        "axis[1].set_ylabel('Density')\n",
        "\n",
        "#axis[0].title('Bar plot\\n &Density histogram')\n",
        "#axis[0].plot.bar(rot=0, color=\"c\", figsize=(10,10), label=\"bar plot\"\n",
        "#axis[1].Hist_bars_plot\n",
        "plt.show()\n",
        "#plt.bar(categorical_object, table_3.index)\n",
        "#raise NotImplementedError()"
      ]
    },
    {
      "cell_type": "markdown",
      "metadata": {
        "deletable": false,
        "editable": false,
        "nbgrader": {
          "cell_type": "markdown",
          "checksum": "836fb669a5ba5b0ad0e830c52ebb68dd",
          "grade": false,
          "grade_id": "cell-fa28d87f30b015cb",
          "locked": true,
          "schema_version": 3,
          "solution": false,
          "task": false
        },
        "tags": [],
        "id": "ZtN4otUrQa6W"
      },
      "source": [
        "### b. An equal-frequency binning using 5 bins\n",
        "- Plot bar only"
      ]
    },
    {
      "cell_type": "code",
      "execution_count": null,
      "metadata": {
        "deletable": false,
        "nbgrader": {
          "cell_type": "code",
          "checksum": "0c5b6a0bee56f612bda4b472da53251f",
          "grade": true,
          "grade_id": "cell-9e0b3947c56ded8a",
          "locked": false,
          "points": 1,
          "schema_version": 3,
          "solution": true,
          "task": false
        },
        "tags": [],
        "colab": {
          "base_uri": "https://localhost:8080/",
          "height": 310
        },
        "id": "LGUw8J0hQa6W",
        "outputId": "064b0003-ace6-4ef3-c896-7a249dabb093"
      },
      "outputs": [
        {
          "output_type": "display_data",
          "data": {
            "text/plain": [
              "<Figure size 720x288 with 1 Axes>"
            ],
            "image/png": "[encoded data removed]"
          },
          "metadata": {
            "needs_background": "light"
          }
        }
      ],
      "source": [
        "# YOUR CODE HERE\n",
        "categorical_object = pd.qcut(table_3['IQ'], 5)\n",
        "plt.title('Bar Plot\\n Equal-Frequency Binning using 5 Bins')\n",
        "Catg_obj_bars = categorical_object.value_counts(sort=False).plot.bar(rot=0, color=\"c\", figsize=(10,4), edgecolor='black')\n",
        "plt.xlabel('categories')\n",
        "plt.ylabel('Frequency')\n",
        "plt.show()"
      ]
    },
    {
      "cell_type": "markdown",
      "metadata": {
        "deletable": false,
        "editable": false,
        "nbgrader": {
          "cell_type": "markdown",
          "checksum": "ad62c67ae2c65a007a7d84567b109800",
          "grade": false,
          "grade_id": "cell-cdb8ce44c48e5b1d3",
          "locked": true,
          "schema_version": 3,
          "solution": false,
          "task": false
        },
        "tags": [],
        "id": "xdd7FDD0Qa6W"
      },
      "source": [
        "---\n",
        "## Question 4 (4 points)\n",
        "\n",
        "The table below shows socio-economic data for a selection of countries for the year 2009, using the following features:\n",
        "- COUNTRY: The name of the country\n",
        "- LIFE EXPECTANCY: The average life expectancy (in years)\n",
        "- INFANT MORTALITY: The infant mortality rate (per 1,000 live births)\n",
        "- EDUCATION: Spending per primary student as a percentage of GDP\n",
        "- HEALTH: Health spending as a percentage of GDP\n",
        "- HEALTH USD: Health spending per person converted into US dollars\n",
        "\n",
        "<img src=\"https://i.ibb.co/L8DCrCK/fig-9.png\" alt=\"fig-9\" border=\"0\" width=\"1000\" height=\"600\"></a>\n",
        "\n",
        "### a. Correlation\n",
        "Calculate the correlation between the LIFEEXPECTANCY and INFANTMORTALITY features."
      ]
    },
    {
      "cell_type": "code",
      "execution_count": null,
      "metadata": {
        "deletable": false,
        "nbgrader": {
          "cell_type": "code",
          "checksum": "dee1cebc954d2b71392c0d922dc32630",
          "grade": false,
          "grade_id": "sum_of_squares_equation",
          "locked": false,
          "schema_version": 3,
          "solution": true,
          "task": false
        },
        "tags": [],
        "id": "l44bjWrvQa6W"
      },
      "outputs": [],
      "source": [
        "def dataframe():\n",
        "    '''\n",
        "    Define a pandas dataframe for the above table with correct column names\n",
        "    returns a pandas dataframe.\n",
        "    use this link: \n",
        "        https://docs.google.com/spreadsheets/d/e/2PACX-1vQcol4mKagdyRCgxwMtJq_AVqQHIeDZxhJRA2Nj2ziO8poHjGTg3UNynP1LtFYNVW9TG793Uxh5PMis/pub?gid=1761024639&single=true&output=csv\n",
        "    to install the dataset\n",
        "    '''\n",
        "    file=pd.read_csv('https://docs.google.com/spreadsheets/d/e/2PACX-1vQcol4mKagdyRCgxwMtJq_AVqQHIeDZxhJRA2Nj2ziO8poHjGTg3UNynP1LtFYNVW9TG793Uxh5PMis/pub?gid=1761024639&single=true&output=csv')\n",
        "    return file"
      ]
    },
    {
      "cell_type": "code",
      "execution_count": null,
      "metadata": {
        "deletable": false,
        "editable": false,
        "nbgrader": {
          "cell_type": "code",
          "checksum": "867d6e6d6f7d0f51ebf0e4f23cf7fd5c",
          "grade": true,
          "grade_id": "cell-c79877c970080790",
          "locked": true,
          "points": 1,
          "schema_version": 3,
          "solution": false,
          "task": false
        },
        "tags": [],
        "id": "MdoFE8tYQa6X"
      },
      "outputs": [],
      "source": [
        "#dataframe() #submit with this commented"
      ]
    },
    {
      "cell_type": "code",
      "execution_count": null,
      "metadata": {
        "deletable": false,
        "nbgrader": {
          "cell_type": "code",
          "checksum": "154a1de264d014f58f95a5caa829901f",
          "grade": false,
          "grade_id": "cell-64c3eefe0bf192c4",
          "locked": false,
          "schema_version": 3,
          "solution": true,
          "task": false
        },
        "tags": [],
        "id": "m6FeBjFfQa6X"
      },
      "outputs": [],
      "source": [
        "def correlation(df, features):\n",
        "    '''\n",
        "    Calculates correlation in a pandas dataframe between given features in an\n",
        "    array.\n",
        "    returns a float number\n",
        "    '''\n",
        "    # YOUR CODE HERE\n",
        "    #df[features].corr(method =\"pearson\")\n",
        "    return df[features].corr(method =\"pearson\").iloc[0, 1]"
      ]
    },
    {
      "cell_type": "code",
      "execution_count": null,
      "metadata": {
        "deletable": false,
        "editable": false,
        "nbgrader": {
          "cell_type": "code",
          "checksum": "80084ab7ff34eb82233c11c38978edec",
          "grade": true,
          "grade_id": "cell-9a66b3cf249583e0",
          "locked": true,
          "points": 1,
          "schema_version": 3,
          "solution": false,
          "task": false
        },
        "tags": [],
        "id": "-hMBsYjAQa6X"
      },
      "outputs": [],
      "source": [
        "#correlation(dataframe(), features=[\"LIFE EXPECTANCY\",\"INFANT MORTALITY\"]) #submit with this commented"
      ]
    },
    {
      "cell_type": "markdown",
      "metadata": {
        "deletable": false,
        "editable": false,
        "nbgrader": {
          "cell_type": "markdown",
          "checksum": "5a11ea4a472ae7eb3546abcc236252b2",
          "grade": false,
          "grade_id": "cell-43f69749805d766d",
          "locked": true,
          "schema_version": 3,
          "solution": false,
          "task": false
        },
        "tags": [],
        "id": "Gl8kVO5hQa6X"
      },
      "source": [
        "### b. Scatter Plot \n",
        "The image below shows a scatter plot matrix of the continuous features from this\n",
        "dataset (the correlation between LIFEEXPECTANCY and INFANTMORTALITY has\n",
        "been omitted). Discuss the relationships between the features in the dataset that\n",
        "this scatter plot highlights\n",
        "\n",
        "<img src=\"https://i.ibb.co/Gv1MCHm/fig-9-b.png\" alt=\"fig-9-b\" border=\"0\" width=1000 height=500>"
      ]
    },
    {
      "cell_type": "markdown",
      "metadata": {
        "deletable": false,
        "nbgrader": {
          "cell_type": "markdown",
          "checksum": "c08b523420a461ec6988d37adfc11a9b",
          "grade": true,
          "grade_id": "cell-c3d69a51d93684e5",
          "locked": false,
          "points": 2,
          "schema_version": 3,
          "solution": true,
          "task": false
        },
        "tags": [],
        "id": "t6sLK1K8Qa6X"
      },
      "source": [
        "\n",
        "* There is a ngative high correlation between LifeExpectancy and InfantMortality\n",
        "* There is no correlation between LifeExpectancy and Education\n",
        "* There is an acceptable correlation between LifeExpectancy and Health\n",
        "* There is a high correlation between LifeExpectancy and HealthUSD\n",
        "\n",
        "\n",
        "---\n",
        "\n",
        "\n",
        "* There is a ngative acceptable correlation between InfantMortality and Education\n",
        "* There is no correlation between InfantMortality and Health\n",
        "* There is a ngative high correlation between InfantMortality and HealthUSD\n",
        "\n",
        "\n",
        "---\n",
        "\n",
        "* There is a high correlation between Education and Health\n",
        "* There is an acceptable correlation between Education and HealthUSD\n",
        "* There is a high correlation correlation between Health and HealthUSD\n",
        "\n",
        "\n",
        "\n",
        "\n"
      ]
    },
    {
      "cell_type": "markdown",
      "metadata": {
        "deletable": false,
        "editable": false,
        "nbgrader": {
          "cell_type": "markdown",
          "checksum": "bc428703422221142e090f1a1041270b",
          "grade": false,
          "grade_id": "partD",
          "locked": true,
          "schema_version": 3,
          "solution": false,
          "task": false
        },
        "tags": [],
        "id": "sjLLEaQmQa6X"
      },
      "source": [
        "---\n",
        "## Question 5 (3 points)\n",
        "\n",
        "The following data visualizations are based on the tachycardia prediction\n",
        "dataset from Question 5 in Assignment 1 (after the instances with missing TACHYCARDIA values have\n",
        "been removed and all outliers have been handled). \n",
        "\n",
        "Each visualization illustrates the\n",
        "relationship between a descriptive feature and the target feature, TACHYCARDIA and is\n",
        "composed of three plots: a plot of the distribution of the descriptive feature values in\n",
        "the full dataset, and plots showing the distribution of the descriptive feature values for\n",
        "each level of the target. \n",
        "\n",
        "**Discuss the relationships shown in each visualizations**\n",
        "\n",
        "### a. visualization 1\n",
        "\n",
        "The visualization below illustrates the relationship between the continuous feature\n",
        "DIA. B.P. and the target feature, TACHYCARDIA.\n",
        "\n",
        "<img src=\"https://i.ibb.co/nb71Mnr/fig-10-a.png\" alt=\"fig-10-a\" border=\"0\" width=1000 height=600>\n"
      ]
    },
    {
      "cell_type": "markdown",
      "metadata": {
        "deletable": false,
        "nbgrader": {
          "cell_type": "markdown",
          "checksum": "d65865a62f17e69d29ecd91eced2f874",
          "grade": true,
          "grade_id": "cell-0dcf8e73d6534a4b",
          "locked": false,
          "points": 1,
          "schema_version": 3,
          "solution": true,
          "task": false
        },
        "tags": [],
        "id": "dyAeHsbBQa6X"
      },
      "source": [
        "We can't determine if the person has tachycardia if he his Dia B.P is below 120 , but we can say that a person with DiaBP of 120 or more might have tachycardia"
      ]
    },
    {
      "cell_type": "markdown",
      "metadata": {
        "deletable": false,
        "editable": false,
        "nbgrader": {
          "cell_type": "markdown",
          "checksum": "fb3747f859c9a7831371f1ddcccae049",
          "grade": false,
          "grade_id": "cell-23e66c35fe713431",
          "locked": true,
          "schema_version": 3,
          "solution": false,
          "task": false
        },
        "tags": [],
        "id": "TEvL6AE5Qa6Y"
      },
      "source": [
        "### b. visualization 2\n",
        "\n",
        "The visualization below illustrates the relationship between the continuous HEIGHT\n",
        "feature and the target feature TACHYCARDIA.\n",
        "\n",
        "<img src=\"https://i.ibb.co/16pmXh0/fig-10-b.png\" alt=\"fig-10-b\" border=\"0\" width=1000 height=600>"
      ]
    },
    {
      "cell_type": "markdown",
      "metadata": {
        "deletable": false,
        "nbgrader": {
          "cell_type": "markdown",
          "checksum": "0ed93c4c2391b2ce9e8c0a54688f8742",
          "grade": true,
          "grade_id": "cell-5496325529bccd61",
          "locked": false,
          "points": 1,
          "schema_version": 3,
          "solution": true,
          "task": false
        },
        "tags": [],
        "id": "M30cE8f7Qa6Y"
      },
      "source": [
        "There is no relation between tachycardia and height"
      ]
    },
    {
      "cell_type": "markdown",
      "metadata": {
        "deletable": false,
        "editable": false,
        "nbgrader": {
          "cell_type": "markdown",
          "checksum": "9050511fa3c45fad34727a58017208f8",
          "grade": false,
          "grade_id": "cell-e8de201159699d1e",
          "locked": true,
          "schema_version": 3,
          "solution": false,
          "task": false
        },
        "tags": [],
        "id": "cGAwvcaQQa6Y"
      },
      "source": [
        "### c. visualization 3\n",
        "\n",
        "The visualization below illustrates the relationship between the categorical feature\n",
        "PREV. TACHY. and the target feature, TACHYCARDIA\n",
        "\n",
        "<img src=\"https://i.ibb.co/6vy6r2y/fig-10-c.png\" alt=\"fig-10-c\" border=\"0\" width=1000, heighht = 700>"
      ]
    },
    {
      "cell_type": "markdown",
      "metadata": {
        "deletable": false,
        "nbgrader": {
          "cell_type": "markdown",
          "checksum": "efd93b466dfc0dcadfafa010e67ba5ae",
          "grade": true,
          "grade_id": "cell-7bd313bcc159de7f",
          "locked": false,
          "points": 1,
          "schema_version": 3,
          "solution": true,
          "task": false
        },
        "tags": [],
        "id": "fYWvXkUsQa6Y"
      },
      "source": [
        "Patient with previous tachycardia has a higher chance of having tachycardia now while if the patient had no previous tachycardia he will has chance of getting it but alot lower."
      ]
    },
    {
      "cell_type": "markdown",
      "metadata": {
        "deletable": false,
        "editable": false,
        "nbgrader": {
          "cell_type": "markdown",
          "checksum": "4d54c074ec82d3a6b33beef30c2ea3f5",
          "grade": false,
          "grade_id": "cell-eb7fc47c4b7c522b",
          "locked": true,
          "schema_version": 3,
          "solution": false,
          "task": false
        },
        "tags": [],
        "id": "zYFsSUhWQa6Y"
      },
      "source": [
        "---\n",
        "## Question 6 (4 points)\n",
        "\n",
        "Worldwide breast cancer is the most common form of cancer for women, and the\n",
        "second most common form of cancer overall.18 Reliable, population-wide screening\n",
        "is one tool that can be used to reduce the impact of breast cancer, and there is an\n",
        "opportunity for machine learning to be used for this. A large hospital group has collected a cancer screening dataset for possible use with machine learning that contains\n",
        "features extracted from tissue samples extracted by biopsy from adults presenting for\n",
        "screening. Features have been extracted from these biopsies by lab technicians who\n",
        "rate samples across a number of cagegories on a scale of 1 to 10. The samples have\n",
        "then been manually categorized by clinicians as either benign or malignant.\n",
        "1The\n",
        "descriptive features in this dataset are defined as follows:\n",
        "- AGE: The age of the person screened.\n",
        "- SEX: The sex of the person screened, either male or female.\n",
        "- SIZEUNIFORMITY: A measure of the variation in size of cells in the tissue samples, higher values indicate more uniform sizes (1 to 10).\n",
        "- SHAPEUNIFORMITY: A measure of the variation in shape of cells in the tissue samples, higher values indicate more uniform shapes (1 to 10).\n",
        "- MARGINALADHESION: A measure of how much cells in the biopsy stick together (1 to 10).\n",
        "- MITOSES: A measure of how fast cells are growing (1 to 10).\n",
        "- CLUMPTHICKNESS: A measurae of the amount of layering in cells (1 to 10).\n",
        "- BLANDCHROMATIN: A measure of the texture of cell nuclei (1 to 10).\n",
        "- CLASS: The clinician’s assessment of the biopsy sample as either benign or malignant.\n",
        "\n",
        "The following table contains an extract from this ABT—the full ABT contains 680\n",
        "instances.\n",
        "\n",
        "<img src=\"https://i.ibb.co/z4HSgJS/fig-11.png\" alt=\"fig-11\" border=\"0\" width=\"1000\" height=\"600\">\n",
        "\n",
        "The following data quality report has been generated from the ABT.\n",
        "\n",
        "<img src=\"https://i.ibb.co/QpS7G5j/fig-11-DQT.png\" alt=\"fig-11-DQT\" border=\"0\" width=\"1000\" height=\"600\">\n",
        "\n",
        "<img src=\"https://i.ibb.co/dtfnCb2/fig-11-a.png\" alt=\"fig-11-a\" border=\"0\" width=\"1000\" height=\"600\">\n",
        "<img src=\"https://i.ibb.co/jH27Jw6/fig-11-b.png\" alt=\"fig-11-b\" border=\"0\" width=\"1000\" height=\"600\">\n",
        "<img src=\"https://i.ibb.co/FmY5qQ9/fig-11-c.png\" alt=\"fig-11-c\" border=\"0\" width=\"1000\" height=\"600\">\n",
        "\n",
        "Discuss this data quality report in terms of the following:\n",
        "\n",
        "### a. Missing Values"
      ]
    },
    {
      "cell_type": "markdown",
      "metadata": {
        "deletable": false,
        "nbgrader": {
          "cell_type": "markdown",
          "checksum": "1bd57939e7ad68306262e1e3836eca3e",
          "grade": true,
          "grade_id": "cell-c21b3b36424ce269",
          "locked": false,
          "points": 1,
          "schema_version": 3,
          "solution": true,
          "task": false
        },
        "tags": [],
        "id": "bVVdmPj9Qa6Y"
      },
      "source": [
        "* SIZEUNIFORMITY 9.26% (62.968 values)\n",
        "* SHAPEUNIFORMITY 9.26% (62.968 values)\n",
        "* BLANDCHROMATIN 22.94% (155.992 values)\n",
        "\n",
        "\n"
      ]
    },
    {
      "cell_type": "markdown",
      "metadata": {
        "deletable": false,
        "editable": false,
        "nbgrader": {
          "cell_type": "markdown",
          "checksum": "04b7b7a1893e6fce9e05e5c47ab45201",
          "grade": false,
          "grade_id": "cell-3bd8d3ab92598d6b",
          "locked": true,
          "schema_version": 3,
          "solution": false,
          "task": false
        },
        "tags": [],
        "id": "kLSVidmmQa6Y"
      },
      "source": [
        "### b. Irregular cardinality"
      ]
    },
    {
      "cell_type": "markdown",
      "metadata": {
        "deletable": false,
        "nbgrader": {
          "cell_type": "markdown",
          "checksum": "518065b845d00374948c750c00604e9e",
          "grade": true,
          "grade_id": "cell-14e91275c9a171de",
          "locked": false,
          "points": 1,
          "schema_version": 3,
          "solution": true,
          "task": false
        },
        "tags": [],
        "id": "OaxjJAodQa6Y"
      },
      "source": [
        "*   MARGINALADHESION\n",
        "*   MITOSES\n",
        "*   CLUMPTHICKNESS\n",
        "*   BLANDCHROMATIN\n",
        "*  SIZEUNIFORMITY\n",
        "\n",
        "\n",
        "\n",
        "\n",
        "\n",
        "\n"
      ]
    },
    {
      "cell_type": "markdown",
      "metadata": {
        "deletable": false,
        "editable": false,
        "nbgrader": {
          "cell_type": "markdown",
          "checksum": "bb1aa70a370ad19558c7f257c1843fe7",
          "grade": false,
          "grade_id": "cell-c990d76757a7f2df",
          "locked": true,
          "schema_version": 3,
          "solution": false,
          "task": false
        },
        "tags": [],
        "id": "LBzBoqGzQa6Z"
      },
      "source": [
        "### c. Outliers"
      ]
    },
    {
      "cell_type": "markdown",
      "metadata": {
        "deletable": false,
        "nbgrader": {
          "cell_type": "markdown",
          "checksum": "c4b90d8ace9bf9d4a36546c5cca4c49e",
          "grade": true,
          "grade_id": "cell-ffdb7dba8d27c698",
          "locked": false,
          "points": 1,
          "schema_version": 3,
          "solution": true,
          "task": false
        },
        "tags": [],
        "id": "sDuRW3NnQa6Z"
      },
      "source": [
        "Mitosis"
      ]
    },
    {
      "cell_type": "markdown",
      "metadata": {
        "deletable": false,
        "editable": false,
        "nbgrader": {
          "cell_type": "markdown",
          "checksum": "44423d221c7f61c231c71c63d72f7181",
          "grade": false,
          "grade_id": "cell-367fc4fbc9cb2c0f",
          "locked": true,
          "schema_version": 3,
          "solution": false,
          "task": false
        },
        "tags": [],
        "id": "dtGqo3itQa6Z"
      },
      "source": [
        "### d. Feature distributions"
      ]
    },
    {
      "cell_type": "markdown",
      "metadata": {
        "deletable": false,
        "nbgrader": {
          "cell_type": "markdown",
          "checksum": "9cc0fd85510b6db3f9a009873cfdf31d",
          "grade": true,
          "grade_id": "cell-69d9b9d9f36c5382",
          "locked": false,
          "points": 1,
          "schema_version": 3,
          "solution": true,
          "task": false
        },
        "tags": [],
        "id": "053IDvB9Qa6Z"
      },
      "source": [
        "*   Age -> Uniform\n",
        "*   Size Unifomraty -> Exponential \n",
        "*   Shape Uniformaty -> Exponential\n",
        "*   Marginal -> Exponential\n",
        "*   Mitoisis -> Exponential\n",
        "*   Clump thickness -> Multimodal\n",
        "*   Bland Chromatin -> Multimodal \n",
        "*   Sex-> Bimodal\n",
        "*   Class-> Multimodal"
      ]
    },
    {
      "cell_type": "markdown",
      "metadata": {
        "deletable": false,
        "editable": false,
        "nbgrader": {
          "cell_type": "markdown",
          "checksum": "bae08bd44d81e54a20b2f44ef6510849",
          "grade": false,
          "grade_id": "cell-eeae21495e3bcdb6",
          "locked": true,
          "schema_version": 3,
          "solution": false,
          "task": false
        },
        "tags": [],
        "id": "F39nhEy5Qa6Z"
      },
      "source": [
        "## Question 7 (3 points)\n",
        "The following data visualizations are based on the breast cancer prediction dataset\n",
        "from Question 6 (after some data quality issues present in the dataset have been\n",
        "corrected). Each visualization illustrates the relationship between a descriptive feature\n",
        "and the target feature, CLASS and is composed of three plots: a plot of the distribution\n",
        "of the descriptive feature values in the full dataset, and plots showing the distribution\n",
        "of the descriptive feature values for each level of the target. \n",
        "Discuss the relationships\n",
        "shown in each visualizations.\n",
        "\n",
        "### a. visualization 1\n",
        "The visualization below illustrates the relationship between the continuous feature\n",
        "AGE and the target feature, CLASS.\n",
        "\n",
        "<img src=\"https://i.ibb.co/jM1xtWq/fig-12-a.png\" alt=\"fig-12-a\" border=\"0\" width=1000 height=500>"
      ]
    },
    {
      "cell_type": "markdown",
      "metadata": {
        "deletable": false,
        "nbgrader": {
          "cell_type": "markdown",
          "checksum": "c4104b040e98632efefaa2ca3f7ed290",
          "grade": true,
          "grade_id": "cell-13b6dd76518a376f",
          "locked": false,
          "points": 1,
          "schema_version": 3,
          "solution": true,
          "task": false
        },
        "tags": [],
        "id": "Z71lxXoyQa6Z"
      },
      "source": [
        "Weak relationship between Age and Class "
      ]
    },
    {
      "cell_type": "markdown",
      "metadata": {
        "deletable": false,
        "editable": false,
        "nbgrader": {
          "cell_type": "markdown",
          "checksum": "ba4ba45b29c3b1db59df257409fae40b",
          "grade": false,
          "grade_id": "cell-96ee20f30f712a45",
          "locked": true,
          "schema_version": 3,
          "solution": false,
          "task": false
        },
        "tags": [],
        "id": "fAwbCJ_xQa6Z"
      },
      "source": [
        "### b. visualization 2\n",
        "\n",
        "The visualization below illustrates the relationship between the continuous BLAND\u0002CHROMATIN feature and the target feature CLASS.\n",
        "\n",
        "<img src=\"https://i.ibb.co/TDGQNFh/fig-12-b.png\" alt=\"fig-12-b\" border=\"0\" width=1000 height=500>\n"
      ]
    },
    {
      "cell_type": "markdown",
      "metadata": {
        "deletable": false,
        "nbgrader": {
          "cell_type": "markdown",
          "checksum": "ac41a9612eb37bb9443ec02fb9310022",
          "grade": true,
          "grade_id": "cell-fde9121ec80a91fb",
          "locked": false,
          "points": 1,
          "schema_version": 3,
          "solution": true,
          "task": false
        },
        "tags": [],
        "id": "x42jymrqQa6Z"
      },
      "source": [
        "The graphs show a strong relation between Class and Blandchromatin\n",
        "\n"
      ]
    },
    {
      "cell_type": "markdown",
      "metadata": {
        "deletable": false,
        "editable": false,
        "nbgrader": {
          "cell_type": "markdown",
          "checksum": "5f250e89f1a82665619767a92f82df33",
          "grade": false,
          "grade_id": "cell-6ac5b248492e4463",
          "locked": true,
          "schema_version": 3,
          "solution": false,
          "task": false
        },
        "tags": [],
        "id": "wFXScstuQa6Z"
      },
      "source": [
        "### c. visualization 3\n",
        "\n",
        "The visualization below illustrates the relationship between the categorical feature\n",
        "SEX and the target feature, CLASS.\n",
        "\n",
        "<img src=\"https://i.ibb.co/K5n60qR/fig-12-c.png\" alt=\"fig-12-c\" border=\"0\" width=1000 height=500>"
      ]
    },
    {
      "cell_type": "markdown",
      "metadata": {
        "deletable": false,
        "nbgrader": {
          "cell_type": "markdown",
          "checksum": "337f8ccefbd726011a2924f8bc13407f",
          "grade": true,
          "grade_id": "cell-432044bd1ec6254f",
          "locked": false,
          "points": 1,
          "schema_version": 3,
          "solution": true,
          "task": false
        },
        "tags": [],
        "id": "1eh-nOqrQa6a"
      },
      "source": [
        "Maligant tumors happen more often in females than males"
      ]
    },
    {
      "cell_type": "markdown",
      "metadata": {
        "deletable": false,
        "editable": false,
        "nbgrader": {
          "cell_type": "markdown",
          "checksum": "3dffe53732bc24c0c556e9a2f9b83be8",
          "grade": false,
          "grade_id": "cell-0a5570de227a59f7",
          "locked": true,
          "schema_version": 3,
          "solution": false,
          "task": false
        },
        "tags": [],
        "id": "xBFSyousQa6a"
      },
      "source": [
        "## Question 8 Short Answer (3 points)\n",
        "\n",
        "a. Mention 2 differences between correlation and covariance concisely"
      ]
    },
    {
      "cell_type": "markdown",
      "metadata": {
        "deletable": false,
        "nbgrader": {
          "cell_type": "markdown",
          "checksum": "ce2b9faae78cbfb8e45c76835b1d2d2a",
          "grade": true,
          "grade_id": "cell-0ea8feb5c7e48c5d",
          "locked": false,
          "points": 1,
          "schema_version": 3,
          "solution": true,
          "task": false
        },
        "tags": [],
        "id": "FXhbAC4RQa6a"
      },
      "source": [
        "1. Correlation is a normalized measure, which means it is standardized to always be between -1 and 1, where covariance is not normalized and can take any value.\n",
        "\n",
        "\n",
        "2. Correlation measures the strength and direction of the linear relationship   between the variables, while covariance only measures the direction of the linear relationship between the variables, without indicating the strength of the relationship."
      ]
    },
    {
      "cell_type": "markdown",
      "metadata": {
        "deletable": false,
        "editable": false,
        "nbgrader": {
          "cell_type": "markdown",
          "checksum": "9b1d386fde84ba15d0e52706cfffc99a",
          "grade": false,
          "grade_id": "cell-a3ac659f3c47bfa7",
          "locked": true,
          "schema_version": 3,
          "solution": false,
          "task": false
        },
        "tags": [],
        "id": "aSKP_54QQa6a"
      },
      "source": [
        "b. Two of the methods of outlier handling (clamp transformation) are:\n",
        "- Setting mean +/- 2 std as a threshold\n",
        "- Using IQR\n",
        "\n",
        "Mention one feature distribution we can't use the 2 methods with. And how can we handle outliers in that case?"
      ]
    },
    {
      "cell_type": "markdown",
      "metadata": {
        "deletable": false,
        "nbgrader": {
          "cell_type": "markdown",
          "checksum": "989c8d8210927a86fbd2a1ff478906ff",
          "grade": true,
          "grade_id": "cell-b97ce5412eeb253e",
          "locked": false,
          "points": 1,
          "schema_version": 3,
          "solution": true,
          "task": false
        },
        "tags": [],
        "id": "rgIQyDClQa6a"
      },
      "source": [
        "if the data follows a heavy-tailed distribution, such as a power-law distribution or a Pareto distribution, then these methods may not work effectively. \n",
        "\n",
        "In such cases, we may use techniques like Winsorization or transformation methods such as Box-Cox or Yeo-Johnson to handle outliers."
      ]
    },
    {
      "cell_type": "markdown",
      "metadata": {
        "deletable": false,
        "editable": false,
        "nbgrader": {
          "cell_type": "markdown",
          "checksum": "778ddb45698e313dfbf0d9f10c32550d",
          "grade": false,
          "grade_id": "cell-d26b76153a0b0a8f",
          "locked": true,
          "schema_version": 3,
          "solution": false,
          "task": false
        },
        "tags": [],
        "id": "O12E6lHeQa6a"
      },
      "source": [
        "c. Mention the difference between valid and invalid outliers."
      ]
    },
    {
      "cell_type": "markdown",
      "metadata": {
        "deletable": false,
        "nbgrader": {
          "cell_type": "markdown",
          "checksum": "0c7e33e3d0ef9c28e229f667cd130fc6",
          "grade": true,
          "grade_id": "cell-36ceb3976ebfbf73",
          "locked": false,
          "points": 1,
          "schema_version": 3,
          "solution": true,
          "task": false
        },
        "tags": [],
        "id": "L9AcQ4oLQa6a"
      },
      "source": [
        "*  Valid outliers are the data points that are a true representation of the underlying population and are not the result of measurement errors or data entry mistakes. Valid outliers can be caused by natural variability or extreme events, and they can contain valuable information that can provide insight into the data.\n",
        "\n",
        "*  Invalid outliers, on the other hand, are the data points that are the result of errors or mistakes in the data collection or entry process. These outliers are not a true representation of the underlying population and can skew the results of statistical analyses. Invalid outliers can be caused by measurement errors, data entry mistakes, or data processing errors, and they need to be identified and removed from the dataset to ensure accurate analysis.\n",
        "\n",
        "\n",
        "\n"
      ]
    }
  ],
  "metadata": {
    "kernelspec": {
      "display_name": "Python 3 (ipykernel)",
      "language": "python",
      "name": "python3"
    },
    "language_info": {
      "codemirror_mode": {
        "name": "ipython",
        "version": 3
      },
      "file_extension": ".py",
      "mimetype": "text/x-python",
      "name": "python",
      "nbconvert_exporter": "python",
      "pygments_lexer": "ipython3",
      "version": "3.10.9"
    },
    "colab": {
      "provenance": [],
      "include_colab_link": true
    }
  },
  "nbformat": 4,
  "nbformat_minor": 0
}